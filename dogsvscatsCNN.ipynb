{
  "nbformat": 4,
  "nbformat_minor": 0,
  "metadata": {
    "colab": {
      "name": "dogsvscatsCNN.ipynb",
      "version": "0.3.2",
      "provenance": [],
      "collapsed_sections": [],
      "include_colab_link": true
    },
    "kernelspec": {
      "name": "python3",
      "display_name": "Python 3"
    },
    "accelerator": "GPU"
  },
  "cells": [
    {
      "cell_type": "markdown",
      "metadata": {
        "id": "view-in-github",
        "colab_type": "text"
      },
      "source": [
        "<a href=\"https://colab.research.google.com/github/mrrajatgarg/kaggle/blob/master/dogsvscatsCNN.ipynb\" target=\"_parent\"><img src=\"https://colab.research.google.com/assets/colab-badge.svg\" alt=\"Open In Colab\"/></a>"
      ]
    },
    {
      "metadata": {
        "id": "ibzpSDTbyYBE",
        "colab_type": "text"
      },
      "cell_type": "markdown",
      "source": [
        "# Downloading of dataset from Kaggle"
      ]
    },
    {
      "metadata": {
        "id": "m1BeL_3xx-F6",
        "colab_type": "code",
        "outputId": "4211c47a-739f-4128-a680-ae47e941d2ce",
        "colab": {
          "resources": {
            "http://localhost:8080/nbextensions/google.colab/files.js": {
              "data": "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",
              "ok": true,
              "headers": [
                [
                  "content-type",
                  "application/javascript"
                ]
              ],
              "status": 200,
              "status_text": ""
            }
          },
          "base_uri": "https://localhost:8080/",
          "height": 89
        }
      },
      "cell_type": "code",
      "source": [
        "# Run this cell and select the kaggle.json file downloaded\n",
        "# from the Kaggle account settings page.\n",
        "from google.colab import files\n",
        "files.upload()"
      ],
      "execution_count": 0,
      "outputs": [
        {
          "output_type": "display_data",
          "data": {
            "text/html": [
              "\n",
              "     <input type=\"file\" id=\"files-f6bd8ce9-6c2b-4ea3-880d-66ef0a109b73\" name=\"files[]\" multiple disabled />\n",
              "     <output id=\"result-f6bd8ce9-6c2b-4ea3-880d-66ef0a109b73\">\n",
              "      Upload widget is only available when the cell has been executed in the\n",
              "      current browser session. Please rerun this cell to enable.\n",
              "      </output>\n",
              "      <script src=\"/nbextensions/google.colab/files.js\"></script> "
            ],
            "text/plain": [
              "<IPython.core.display.HTML object>"
            ]
          },
          "metadata": {
            "tags": []
          }
        },
        {
          "output_type": "stream",
          "text": [
            "Saving kaggle.json to kaggle.json\n"
          ],
          "name": "stdout"
        },
        {
          "output_type": "execute_result",
          "data": {
            "text/plain": [
              "{'kaggle.json': b'{\"username\":\"mrrajatgarg\",\"key\":\"ae5a419aa72b781b3ca5459616930b23\"}'}"
            ]
          },
          "metadata": {
            "tags": []
          },
          "execution_count": 2
        }
      ]
    },
    {
      "metadata": {
        "id": "3JjKIrg1yG-F",
        "colab_type": "code",
        "outputId": "305913af-f1ca-494e-b0a3-7c40d0fdbf33",
        "colab": {
          "base_uri": "https://localhost:8080/",
          "height": 34
        }
      },
      "cell_type": "code",
      "source": [
        "# Let's make sure the kaggle.json file is present.\n",
        "!ls -lha kaggle.json"
      ],
      "execution_count": 0,
      "outputs": [
        {
          "output_type": "stream",
          "text": [
            "-rw-r--r-- 1 root root 67 Feb  5 18:07 kaggle.json\n"
          ],
          "name": "stdout"
        }
      ]
    },
    {
      "metadata": {
        "id": "Djl-P00MyObX",
        "colab_type": "code",
        "colab": {}
      },
      "cell_type": "code",
      "source": [
        "# Next, install the Kaggle API client.\n",
        "!pip install -q kaggle"
      ],
      "execution_count": 0,
      "outputs": []
    },
    {
      "metadata": {
        "id": "XdxdoM-ayRjN",
        "colab_type": "code",
        "colab": {}
      },
      "cell_type": "code",
      "source": [
        "# The Kaggle API client expects this file to be in ~/.kaggle,\n",
        "# so move it there.\n",
        "!mkdir -p ~/.kaggle\n",
        "!cp kaggle.json ~/.kaggle/\n",
        "\n",
        "# This permissions change avoids a warning on Kaggle tool startup.\n",
        "!chmod 600 ~/.kaggle/kaggle.json"
      ],
      "execution_count": 0,
      "outputs": []
    },
    {
      "metadata": {
        "id": "GhC7ZU5lyT-W",
        "colab_type": "code",
        "outputId": "7825b699-5300-46ab-81e0-0118bd790ab8",
        "colab": {
          "base_uri": "https://localhost:8080/",
          "height": 170
        }
      },
      "cell_type": "code",
      "source": [
        "!kaggle competitions download -c dogs-vs-cats"
      ],
      "execution_count": 0,
      "outputs": [
        {
          "output_type": "stream",
          "text": [
            "Downloading sampleSubmission.csv to /content\n",
            "\r  0% 0.00/86.8k [00:00<?, ?B/s]\n",
            "100% 86.8k/86.8k [00:00<00:00, 41.0MB/s]\n",
            "Downloading test1.zip to /content\n",
            " 96% 260M/271M [00:01<00:00, 188MB/s]\n",
            "100% 271M/271M [00:01<00:00, 161MB/s]\n",
            "Downloading train.zip to /content\n",
            " 96% 524M/543M [00:03<00:00, 192MB/s]\n",
            "100% 543M/543M [00:04<00:00, 142MB/s]\n"
          ],
          "name": "stdout"
        }
      ]
    },
    {
      "metadata": {
        "id": "mXTYg72iyW5g",
        "colab_type": "code",
        "colab": {}
      },
      "cell_type": "code",
      "source": [
        "!ls"
      ],
      "execution_count": 0,
      "outputs": []
    },
    {
      "metadata": {
        "id": "QjOBS7sHy3ZK",
        "colab_type": "code",
        "outputId": "ba0ecde7-1438-46c1-a3e4-d3540ad270f8",
        "colab": {
          "base_uri": "https://localhost:8080/",
          "height": 51
        }
      },
      "cell_type": "code",
      "source": [
        "from zipfile import ZipFile\n",
        "\n",
        "file_name = \"train.zip\"\n",
        "\n",
        "# opening the zip file in read me mode\n",
        "with ZipFile(file_name, 'r') as zip :\n",
        "  print(\"Extracting the files...\")\n",
        "  zip.extractall()\n",
        "  print(\"Done\")"
      ],
      "execution_count": 0,
      "outputs": [
        {
          "output_type": "stream",
          "text": [
            "Extracting the files...\n",
            "Done\n"
          ],
          "name": "stdout"
        }
      ]
    },
    {
      "metadata": {
        "id": "9tCvrQiSy6eg",
        "colab_type": "code",
        "outputId": "c827a63e-682c-4b0d-972c-a0e6ae144557",
        "colab": {
          "base_uri": "https://localhost:8080/",
          "height": 51
        }
      },
      "cell_type": "code",
      "source": [
        "file_name = \"test1.zip\"\n",
        "\n",
        "# opening the zip file in read me mode\n",
        "with ZipFile(file_name, 'r') as zip :\n",
        "  print(\"Extracting the files...\")\n",
        "  zip.extractall()\n",
        "  print(\"Done\")"
      ],
      "execution_count": 0,
      "outputs": [
        {
          "output_type": "stream",
          "text": [
            "Extracting the files...\n",
            "Done\n"
          ],
          "name": "stdout"
        }
      ]
    },
    {
      "metadata": {
        "id": "xD_KIUqcy_bF",
        "colab_type": "code",
        "colab": {}
      },
      "cell_type": "code",
      "source": [
        "!ls"
      ],
      "execution_count": 0,
      "outputs": []
    },
    {
      "metadata": {
        "id": "1sF6UCFWyhdT",
        "colab_type": "text"
      },
      "cell_type": "markdown",
      "source": [
        "# Importing Libraries"
      ]
    },
    {
      "metadata": {
        "id": "GENp8DD_yfKE",
        "colab_type": "code",
        "colab": {}
      },
      "cell_type": "code",
      "source": [
        "import os, cv2, itertools\n",
        "import numpy as np\n",
        "import pandas as pd\n",
        "\n",
        "import matplotlib.pyplot as plt\n",
        "%matplotlib inline"
      ],
      "execution_count": 0,
      "outputs": []
    },
    {
      "metadata": {
        "id": "y4U67W1bymDL",
        "colab_type": "code",
        "outputId": "7a50716a-6eb7-43a7-f363-21aed72aca49",
        "colab": {
          "base_uri": "https://localhost:8080/",
          "height": 68
        }
      },
      "cell_type": "code",
      "source": [
        "!pip install np_utils"
      ],
      "execution_count": 0,
      "outputs": [
        {
          "output_type": "stream",
          "text": [
            "Requirement already satisfied: np_utils in /usr/local/lib/python3.6/dist-packages (0.5.9.0)\n",
            "Requirement already satisfied: numpy>=1.0 in /usr/local/lib/python3.6/dist-packages (from np_utils) (1.14.6)\n",
            "Requirement already satisfied: future>=0.16 in /usr/local/lib/python3.6/dist-packages (from np_utils) (0.16.0)\n"
          ],
          "name": "stdout"
        }
      ]
    },
    {
      "metadata": {
        "id": "QQETVWWsCr64",
        "colab_type": "code",
        "outputId": "29bf6bcb-9688-4a8c-96cc-3ba3c6af44a7",
        "colab": {
          "base_uri": "https://localhost:8080/",
          "height": 34
        }
      },
      "cell_type": "code",
      "source": [
        "from keras.utils.np_utils import to_categorical"
      ],
      "execution_count": 0,
      "outputs": [
        {
          "output_type": "stream",
          "text": [
            "Using TensorFlow backend.\n"
          ],
          "name": "stderr"
        }
      ]
    },
    {
      "metadata": {
        "id": "y3IiSxVuDM3q",
        "colab_type": "code",
        "colab": {}
      },
      "cell_type": "code",
      "source": [
        "from keras.models import Sequential\n",
        "from keras.layers import Conv2D\n",
        "from keras.layers import MaxPooling2D\n",
        "from keras.layers import Flatten\n",
        "from keras.layers import Dense\n",
        "from keras.layers import Dropout"
      ],
      "execution_count": 0,
      "outputs": []
    },
    {
      "metadata": {
        "id": "u1SRYY28_3iX",
        "colab_type": "code",
        "colab": {}
      },
      "cell_type": "code",
      "source": [
        "from sklearn.utils import shuffle"
      ],
      "execution_count": 0,
      "outputs": []
    },
    {
      "metadata": {
        "id": "t5R7DqLYPGnf",
        "colab_type": "code",
        "outputId": "ae85ed59-42a7-4daf-854c-5ee726085739",
        "colab": {
          "base_uri": "https://localhost:8080/",
          "height": 85
        }
      },
      "cell_type": "code",
      "source": [
        "!pip install sklearn\n",
        "import sklearn\n",
        "from sklearn.model_selection import train_test_split"
      ],
      "execution_count": 0,
      "outputs": [
        {
          "output_type": "stream",
          "text": [
            "Requirement already satisfied: sklearn in /usr/local/lib/python3.6/dist-packages (0.0)\n",
            "Requirement already satisfied: scikit-learn in /usr/local/lib/python3.6/dist-packages (from sklearn) (0.20.2)\n",
            "Requirement already satisfied: numpy>=1.8.2 in /usr/local/lib/python3.6/dist-packages (from scikit-learn->sklearn) (1.14.6)\n",
            "Requirement already satisfied: scipy>=0.13.3 in /usr/local/lib/python3.6/dist-packages (from scikit-learn->sklearn) (1.1.0)\n"
          ],
          "name": "stdout"
        }
      ]
    },
    {
      "metadata": {
        "id": "_Ka0JaBUBB97",
        "colab_type": "text"
      },
      "cell_type": "markdown",
      "source": [
        "# Converting image's to vectors"
      ]
    },
    {
      "metadata": {
        "id": "V5EaFmH9BH4g",
        "colab_type": "code",
        "colab": {}
      },
      "cell_type": "code",
      "source": [
        "TRAIN_DIR = './train/'\n",
        "TEST_DIR = './test1/'"
      ],
      "execution_count": 0,
      "outputs": []
    },
    {
      "metadata": {
        "id": "ZC12uKZHBR4E",
        "colab_type": "code",
        "colab": {}
      },
      "cell_type": "code",
      "source": [
        "ROWS = 64\n",
        "COLS = 64\n",
        "CHANNELS = 3"
      ],
      "execution_count": 0,
      "outputs": []
    },
    {
      "metadata": {
        "id": "91JhcjkvBTas",
        "colab_type": "code",
        "colab": {}
      },
      "cell_type": "code",
      "source": [
        "train_images = [TRAIN_DIR+i for i in os.listdir(TRAIN_DIR)]\n",
        "test_images = [TEST_DIR+i for i in os.listdir(TEST_DIR)]"
      ],
      "execution_count": 0,
      "outputs": []
    },
    {
      "metadata": {
        "id": "eDVPzvZKBWow",
        "colab_type": "code",
        "colab": {}
      },
      "cell_type": "code",
      "source": [
        "def read_image(file_path):\n",
        "  #print(file_path)\n",
        "  img = cv2.imread(file_path, cv2.IMREAD_COLOR)\n",
        "  #print(img)\n",
        "  return cv2.resize(img, (ROWS, COLS), interpolation=cv2.INTER_CUBIC)"
      ],
      "execution_count": 0,
      "outputs": []
    },
    {
      "metadata": {
        "id": "oAwhoHywBakI",
        "colab_type": "code",
        "colab": {}
      },
      "cell_type": "code",
      "source": [
        "def prep_data(images):\n",
        "  m = len(images)\n",
        "  n_x = ROWS*COLS*CHANNELS\n",
        "  \n",
        "  X = np.ndarray((m,ROWS,COLS,CHANNELS), dtype=np.uint8)\n",
        "  y = np.zeros((m,1))\n",
        "  print(\"X.shape is {}\".format(X.shape))\n",
        "  \n",
        "  for i,image_file in enumerate(images) :\n",
        "    image = read_image(image_file)\n",
        "    X[i,:] = np.squeeze(image.reshape((ROWS, COLS, CHANNELS)))\n",
        "    if 'dog' in image_file.lower() :\n",
        "      y[i,0] = 1\n",
        "    elif 'cat' in image_file.lower() :\n",
        "      y[i,0] = 0\n",
        "    else : # for test data\n",
        "      y[i,0] = image_file.split('/')[-1].split('.')[0]\n",
        "      \n",
        "    if i%1000 == 0 :\n",
        "      print(\"Proceed {} of {}\".format(i, m))\n",
        "    \n",
        "  return X,y"
      ],
      "execution_count": 0,
      "outputs": []
    },
    {
      "metadata": {
        "id": "Gg1QVYhXCBfr",
        "colab_type": "code",
        "outputId": "99c84f0d-b3b8-4f51-e666-14c01d507bb3",
        "colab": {
          "base_uri": "https://localhost:8080/",
          "height": 459
        }
      },
      "cell_type": "code",
      "source": [
        "X, y = prep_data(train_images)"
      ],
      "execution_count": 0,
      "outputs": [
        {
          "output_type": "stream",
          "text": [
            "X.shape is (25000, 64, 64, 3)\n",
            "Proceed 0 of 25000\n",
            "Proceed 1000 of 25000\n",
            "Proceed 2000 of 25000\n",
            "Proceed 3000 of 25000\n",
            "Proceed 4000 of 25000\n",
            "Proceed 5000 of 25000\n",
            "Proceed 6000 of 25000\n",
            "Proceed 7000 of 25000\n",
            "Proceed 8000 of 25000\n",
            "Proceed 9000 of 25000\n",
            "Proceed 10000 of 25000\n",
            "Proceed 11000 of 25000\n",
            "Proceed 12000 of 25000\n",
            "Proceed 13000 of 25000\n",
            "Proceed 14000 of 25000\n",
            "Proceed 15000 of 25000\n",
            "Proceed 16000 of 25000\n",
            "Proceed 17000 of 25000\n",
            "Proceed 18000 of 25000\n",
            "Proceed 19000 of 25000\n",
            "Proceed 20000 of 25000\n",
            "Proceed 21000 of 25000\n",
            "Proceed 22000 of 25000\n",
            "Proceed 23000 of 25000\n",
            "Proceed 24000 of 25000\n"
          ],
          "name": "stdout"
        }
      ]
    },
    {
      "metadata": {
        "id": "SLcqmnLH_7Wb",
        "colab_type": "code",
        "colab": {}
      },
      "cell_type": "code",
      "source": [
        "X, y = shuffle(X, y)"
      ],
      "execution_count": 0,
      "outputs": []
    },
    {
      "metadata": {
        "id": "g6a8FJ0vCDzo",
        "colab_type": "code",
        "outputId": "4408ae9d-1093-425e-8267-6d95d92aba2c",
        "colab": {
          "base_uri": "https://localhost:8080/",
          "height": 34
        }
      },
      "cell_type": "code",
      "source": [
        "X.shape"
      ],
      "execution_count": 0,
      "outputs": [
        {
          "output_type": "execute_result",
          "data": {
            "text/plain": [
              "(25000, 64, 64, 3)"
            ]
          },
          "metadata": {
            "tags": []
          },
          "execution_count": 24
        }
      ]
    },
    {
      "metadata": {
        "id": "3_erLhk1CVeQ",
        "colab_type": "code",
        "outputId": "22d794eb-bda5-4dba-a2c2-442307b34f30",
        "colab": {
          "base_uri": "https://localhost:8080/",
          "height": 34
        }
      },
      "cell_type": "code",
      "source": [
        "y.shape"
      ],
      "execution_count": 0,
      "outputs": [
        {
          "output_type": "execute_result",
          "data": {
            "text/plain": [
              "(25000, 1)"
            ]
          },
          "metadata": {
            "tags": []
          },
          "execution_count": 25
        }
      ]
    },
    {
      "metadata": {
        "id": "J77kbGOpO-S9",
        "colab_type": "text"
      },
      "cell_type": "markdown",
      "source": [
        "# Splitting of dataset into train (60%), validation (20%) and test (20%)"
      ]
    },
    {
      "metadata": {
        "id": "we5GXLWOPE-0",
        "colab_type": "code",
        "colab": {}
      },
      "cell_type": "code",
      "source": [
        "X_train, X_val, y_train, y_val = train_test_split(X, y, test_size=0.2, random_state=1) #20000"
      ],
      "execution_count": 0,
      "outputs": []
    },
    {
      "metadata": {
        "id": "BrUGDaweR1gJ",
        "colab_type": "code",
        "outputId": "20106d9d-e88a-4d17-aaca-91baaed225cd",
        "colab": {
          "base_uri": "https://localhost:8080/",
          "height": 34
        }
      },
      "cell_type": "code",
      "source": [
        "X_train.shape"
      ],
      "execution_count": 0,
      "outputs": [
        {
          "output_type": "execute_result",
          "data": {
            "text/plain": [
              "(20000, 64, 64, 3)"
            ]
          },
          "metadata": {
            "tags": []
          },
          "execution_count": 69
        }
      ]
    },
    {
      "metadata": {
        "id": "dPjwuSrzPE8O",
        "colab_type": "code",
        "colab": {}
      },
      "cell_type": "code",
      "source": [
        "#X_train, X_val, y_train, y_val = train_test_split(X_train, y_train, test_size=0.25, random_state=1)"
      ],
      "execution_count": 0,
      "outputs": []
    },
    {
      "metadata": {
        "id": "teTIT6VvZG8R",
        "colab_type": "code",
        "colab": {}
      },
      "cell_type": "code",
      "source": [
        "X_train[0]"
      ],
      "execution_count": 0,
      "outputs": []
    },
    {
      "metadata": {
        "id": "wWYoBjE-PE57",
        "colab_type": "code",
        "outputId": "9f4ff30f-12cc-4e8d-b441-c12afc1215bb",
        "colab": {
          "base_uri": "https://localhost:8080/",
          "height": 34
        }
      },
      "cell_type": "code",
      "source": [
        "X_train.shape"
      ],
      "execution_count": 0,
      "outputs": [
        {
          "output_type": "execute_result",
          "data": {
            "text/plain": [
              "(20000, 64, 64, 3)"
            ]
          },
          "metadata": {
            "tags": []
          },
          "execution_count": 72
        }
      ]
    },
    {
      "metadata": {
        "id": "VUpY1CccRV5a",
        "colab_type": "code",
        "colab": {}
      },
      "cell_type": "code",
      "source": [
        "#X_test.shape"
      ],
      "execution_count": 0,
      "outputs": []
    },
    {
      "metadata": {
        "id": "ZX64JeSqSCFa",
        "colab_type": "code",
        "outputId": "3b925128-abc9-4230-d476-8666d435cb3e",
        "colab": {
          "base_uri": "https://localhost:8080/",
          "height": 34
        }
      },
      "cell_type": "code",
      "source": [
        "X_val.shape"
      ],
      "execution_count": 0,
      "outputs": [
        {
          "output_type": "execute_result",
          "data": {
            "text/plain": [
              "(5000, 64, 64, 3)"
            ]
          },
          "metadata": {
            "tags": []
          },
          "execution_count": 76
        }
      ]
    },
    {
      "metadata": {
        "id": "AJIJ1ejRSKVu",
        "colab_type": "text"
      },
      "cell_type": "markdown",
      "source": [
        "# Converting to one-hot vector representation"
      ]
    },
    {
      "metadata": {
        "id": "P4UnsemwSPge",
        "colab_type": "code",
        "colab": {}
      },
      "cell_type": "code",
      "source": [
        "y_train_one_hot = to_categorical(y_train)"
      ],
      "execution_count": 0,
      "outputs": []
    },
    {
      "metadata": {
        "id": "Rv5KtQmSSPvY",
        "colab_type": "code",
        "outputId": "47e766cc-fa51-4142-9498-723a848ca06d",
        "colab": {
          "base_uri": "https://localhost:8080/",
          "height": 34
        }
      },
      "cell_type": "code",
      "source": [
        "y_train_one_hot.shape"
      ],
      "execution_count": 0,
      "outputs": [
        {
          "output_type": "execute_result",
          "data": {
            "text/plain": [
              "(20000, 2)"
            ]
          },
          "metadata": {
            "tags": []
          },
          "execution_count": 78
        }
      ]
    },
    {
      "metadata": {
        "id": "xQhyJD8ESXgX",
        "colab_type": "code",
        "outputId": "3653b3de-516a-4ed5-f46f-c4ba64f87828",
        "colab": {
          "base_uri": "https://localhost:8080/",
          "height": 34
        }
      },
      "cell_type": "code",
      "source": [
        "num_classes = y_train_one_hot.shape[1]\n",
        "print(num_classes)"
      ],
      "execution_count": 0,
      "outputs": [
        {
          "output_type": "stream",
          "text": [
            "2\n"
          ],
          "name": "stdout"
        }
      ]
    },
    {
      "metadata": {
        "id": "BSvnfeLDSXoe",
        "colab_type": "code",
        "colab": {}
      },
      "cell_type": "code",
      "source": [
        "y_val_one_hot = to_categorical(y_val)"
      ],
      "execution_count": 0,
      "outputs": []
    },
    {
      "metadata": {
        "id": "iZ5DasZgSXyN",
        "colab_type": "code",
        "outputId": "1d8ce981-87c5-4724-ef4a-1a570c674160",
        "colab": {
          "base_uri": "https://localhost:8080/",
          "height": 34
        }
      },
      "cell_type": "code",
      "source": [
        "y_val_one_hot.shape"
      ],
      "execution_count": 0,
      "outputs": [
        {
          "output_type": "execute_result",
          "data": {
            "text/plain": [
              "(5000, 2)"
            ]
          },
          "metadata": {
            "tags": []
          },
          "execution_count": 81
        }
      ]
    },
    {
      "metadata": {
        "id": "FunWlXMhSX8F",
        "colab_type": "code",
        "colab": {}
      },
      "cell_type": "code",
      "source": [
        "#y_test_one_hot = to_categorical(y_test)"
      ],
      "execution_count": 0,
      "outputs": []
    },
    {
      "metadata": {
        "id": "l8I_OEjeSYFp",
        "colab_type": "code",
        "colab": {}
      },
      "cell_type": "code",
      "source": [
        "#y_test_one_hot.shape"
      ],
      "execution_count": 0,
      "outputs": []
    },
    {
      "metadata": {
        "id": "ctgBH4Q9AlQR",
        "colab_type": "text"
      },
      "cell_type": "markdown",
      "source": [
        "# Visualizing the dataset"
      ]
    },
    {
      "metadata": {
        "id": "4YXBjR-hApUh",
        "colab_type": "code",
        "colab": {}
      },
      "cell_type": "code",
      "source": [
        "classes = {0: 'cats',\n",
        "          1: 'dogs'}"
      ],
      "execution_count": 0,
      "outputs": []
    },
    {
      "metadata": {
        "id": "a75tCEIQBHk0",
        "colab_type": "code",
        "colab": {}
      },
      "cell_type": "code",
      "source": [
        "def show_images(X, y, idx) :\n",
        "  image = X[idx]\n",
        "  #image = image.reshape((ROWS, COLS, CHANNELS))\n",
        "  plt.figure(figsize=(4,2))\n",
        "  plt.imshow(image)\n",
        "  plt.title(\"This is a {}\".format(classes[y[idx,0]]))\n",
        "  plt.show()"
      ],
      "execution_count": 0,
      "outputs": []
    },
    {
      "metadata": {
        "id": "1WCN9cDsBKZl",
        "colab_type": "code",
        "outputId": "5684ce38-e8c4-4432-ef2d-2709f9ecea66",
        "colab": {
          "base_uri": "https://localhost:8080/",
          "height": 172
        }
      },
      "cell_type": "code",
      "source": [
        "show_images(X_train, y_train, 0)"
      ],
      "execution_count": 0,
      "outputs": [
        {
          "output_type": "display_data",
          "data": {
            "image/png": "[encoded data removed]",
            "text/plain": [
              "<Figure size 288x144 with 1 Axes>"
            ]
          },
          "metadata": {
            "tags": []
          }
        }
      ]
    },
    {
      "metadata": {
        "id": "MsqYQZRIHUvj",
        "colab_type": "code",
        "colab": {}
      },
      "cell_type": "code",
      "source": [
        "X_train_norm = X_train / 255\n",
        "X_val_norm = X_val / 255\n",
        "#X_test_norm = X_test / 255"
      ],
      "execution_count": 0,
      "outputs": []
    },
    {
      "metadata": {
        "id": "2bRxHEFKHsWt",
        "colab_type": "code",
        "colab": {}
      },
      "cell_type": "code",
      "source": [
        "X_train_norm[0]"
      ],
      "execution_count": 0,
      "outputs": []
    },
    {
      "metadata": {
        "id": "IeWqK-rDYz1D",
        "colab_type": "code",
        "outputId": "f6c95559-c39a-4698-a706-49d4e3dcf564",
        "colab": {
          "base_uri": "https://localhost:8080/",
          "height": 34
        }
      },
      "cell_type": "code",
      "source": [
        "X_train_norm.shape"
      ],
      "execution_count": 0,
      "outputs": [
        {
          "output_type": "execute_result",
          "data": {
            "text/plain": [
              "(20000, 64, 64, 3)"
            ]
          },
          "metadata": {
            "tags": []
          },
          "execution_count": 92
        }
      ]
    },
    {
      "metadata": {
        "id": "vFfrfEHkTRMe",
        "colab_type": "code",
        "colab": {}
      },
      "cell_type": "code",
      "source": [
        "X_val_norm[0]"
      ],
      "execution_count": 0,
      "outputs": []
    },
    {
      "metadata": {
        "id": "G_f7lwjSY1aC",
        "colab_type": "code",
        "outputId": "f1c6cff7-bed1-4f45-bac9-f85b6cf76250",
        "colab": {
          "base_uri": "https://localhost:8080/",
          "height": 34
        }
      },
      "cell_type": "code",
      "source": [
        "X_val_norm.shape"
      ],
      "execution_count": 0,
      "outputs": [
        {
          "output_type": "execute_result",
          "data": {
            "text/plain": [
              "(5000, 64, 64, 3)"
            ]
          },
          "metadata": {
            "tags": []
          },
          "execution_count": 94
        }
      ]
    },
    {
      "metadata": {
        "id": "4Q7XH5bfTWeb",
        "colab_type": "code",
        "colab": {}
      },
      "cell_type": "code",
      "source": [
        "#X_test_norm[0]"
      ],
      "execution_count": 0,
      "outputs": []
    },
    {
      "metadata": {
        "id": "zSAc37HGY3d-",
        "colab_type": "code",
        "colab": {}
      },
      "cell_type": "code",
      "source": [
        "#X_test_norm.shape"
      ],
      "execution_count": 0,
      "outputs": []
    },
    {
      "metadata": {
        "id": "EGh7IONbXgO3",
        "colab_type": "code",
        "outputId": "5f7d21ff-120b-4cf7-f3a0-2f5c25188316",
        "colab": {
          "base_uri": "https://localhost:8080/",
          "height": 172
        }
      },
      "cell_type": "code",
      "source": [
        "show_images(X_train_norm, y_train, 5)"
      ],
      "execution_count": 0,
      "outputs": [
        {
          "output_type": "display_data",
          "data": {
            "image/png": "[encoded data removed]",
            "text/plain": [
              "<Figure size 288x144 with 1 Axes>"
            ]
          },
          "metadata": {
            "tags": []
          }
        }
      ]
    },
    {
      "metadata": {
        "id": "1xl9JjclEfW_",
        "colab_type": "text"
      },
      "cell_type": "markdown",
      "source": [
        "# Model Architecture and Training of Model"
      ]
    },
    {
      "metadata": {
        "id": "0bOJQKBKbamy",
        "colab_type": "code",
        "colab": {}
      },
      "cell_type": "code",
      "source": [
        "model1 = Sequential()\n",
        "\n",
        "model1.add(Conv2D(32, (3,3), input_shape=(ROWS, COLS, CHANNELS), activation='relu'))\n",
        "model1.add(MaxPooling2D(pool_size = (2,2)))\n",
        "\n",
        "model1.add(Conv2D(32, (3,3), activation='relu'))\n",
        "model1.add(MaxPooling2D(pool_size = (2,2)))\n",
        "model1.add(Dropout(0.6))\n",
        "\n",
        "model1.add(Conv2D(64, (3,3), activation='relu'))\n",
        "model1.add(MaxPooling2D(pool_size = (2,2)))\n",
        "\n",
        "model1.add(Conv2D(64, (3,3), activation='relu'))\n",
        "model1.add(MaxPooling2D(pool_size = (2,2)))\n",
        "\n",
        "model1.add(Flatten())\n",
        "model1.add(Dropout(0.6))\n",
        "\n",
        "model1.add(Dense(units=120, activation='relu'))\n",
        "model1.add(Dense(units=2, activation='sigmoid'))"
      ],
      "execution_count": 0,
      "outputs": []
    },
    {
      "metadata": {
        "id": "yXN3vWnBDhwU",
        "colab_type": "code",
        "colab": {}
      },
      "cell_type": "code",
      "source": [
        "model1.compile(optimizer='adam', loss='categorical_crossentropy', metrics=['accuracy'])"
      ],
      "execution_count": 0,
      "outputs": []
    },
    {
      "metadata": {
        "id": "LzRU0N8MEK_k",
        "colab_type": "code",
        "outputId": "dbbb588e-74d4-4aa3-a041-0dd510281b16",
        "colab": {
          "base_uri": "https://localhost:8080/",
          "height": 578
        }
      },
      "cell_type": "code",
      "source": [
        "model1.summary()"
      ],
      "execution_count": 0,
      "outputs": [
        {
          "output_type": "stream",
          "text": [
            "_________________________________________________________________\n",
            "Layer (type)                 Output Shape              Param #   \n",
            "=================================================================\n",
            "conv2d_25 (Conv2D)           (None, 62, 62, 32)        896       \n",
            "_________________________________________________________________\n",
            "max_pooling2d_25 (MaxPooling (None, 31, 31, 32)        0         \n",
            "_________________________________________________________________\n",
            "conv2d_26 (Conv2D)           (None, 29, 29, 32)        9248      \n",
            "_________________________________________________________________\n",
            "max_pooling2d_26 (MaxPooling (None, 14, 14, 32)        0         \n",
            "_________________________________________________________________\n",
            "dropout_12 (Dropout)         (None, 14, 14, 32)        0         \n",
            "_________________________________________________________________\n",
            "conv2d_27 (Conv2D)           (None, 12, 12, 64)        18496     \n",
            "_________________________________________________________________\n",
            "max_pooling2d_27 (MaxPooling (None, 6, 6, 64)          0         \n",
            "_________________________________________________________________\n",
            "conv2d_28 (Conv2D)           (None, 4, 4, 64)          36928     \n",
            "_________________________________________________________________\n",
            "max_pooling2d_28 (MaxPooling (None, 2, 2, 64)          0         \n",
            "_________________________________________________________________\n",
            "flatten_7 (Flatten)          (None, 256)               0         \n",
            "_________________________________________________________________\n",
            "dropout_13 (Dropout)         (None, 256)               0         \n",
            "_________________________________________________________________\n",
            "dense_14 (Dense)             (None, 120)               30840     \n",
            "_________________________________________________________________\n",
            "dense_15 (Dense)             (None, 2)                 242       \n",
            "=================================================================\n",
            "Total params: 96,650\n",
            "Trainable params: 96,650\n",
            "Non-trainable params: 0\n",
            "_________________________________________________________________\n"
          ],
          "name": "stdout"
        }
      ]
    },
    {
      "metadata": {
        "id": "xe7RHtCSbXKC",
        "colab_type": "code",
        "outputId": "69d89fa6-8ae0-429e-fc72-854783aa6366",
        "colab": {
          "base_uri": "https://localhost:8080/",
          "height": 731
        }
      },
      "cell_type": "code",
      "source": [
        "model1.fit(X_train_norm, y_train_one_hot, validation_data=(X_val_norm, y_val_one_hot), epochs=20, batch_size = 64)"
      ],
      "execution_count": 0,
      "outputs": [
        {
          "output_type": "stream",
          "text": [
            "Train on 20000 samples, validate on 5000 samples\n",
            "Epoch 1/20\n",
            "20000/20000 [==============================] - 8s 385us/step - loss: 0.6659 - acc: 0.5793 - val_loss: 0.6241 - val_acc: 0.6558\n",
            "Epoch 2/20\n",
            "20000/20000 [==============================] - 7s 333us/step - loss: 0.5993 - acc: 0.6787 - val_loss: 0.5478 - val_acc: 0.7296\n",
            "Epoch 3/20\n",
            "20000/20000 [==============================] - 7s 334us/step - loss: 0.5474 - acc: 0.7221 - val_loss: 0.5477 - val_acc: 0.7112\n",
            "Epoch 4/20\n",
            "20000/20000 [==============================] - 7s 335us/step - loss: 0.5109 - acc: 0.7496 - val_loss: 0.4578 - val_acc: 0.7902\n",
            "Epoch 5/20\n",
            "20000/20000 [==============================] - 7s 335us/step - loss: 0.4796 - acc: 0.7679 - val_loss: 0.4202 - val_acc: 0.8124\n",
            "Epoch 6/20\n",
            "20000/20000 [==============================] - 7s 334us/step - loss: 0.4615 - acc: 0.7809 - val_loss: 0.4205 - val_acc: 0.8120\n",
            "Epoch 7/20\n",
            "20000/20000 [==============================] - 7s 335us/step - loss: 0.4461 - acc: 0.7928 - val_loss: 0.4210 - val_acc: 0.8096\n",
            "Epoch 8/20\n",
            "20000/20000 [==============================] - 7s 334us/step - loss: 0.4243 - acc: 0.8065 - val_loss: 0.4376 - val_acc: 0.8000\n",
            "Epoch 9/20\n",
            "20000/20000 [==============================] - 7s 336us/step - loss: 0.4178 - acc: 0.8046 - val_loss: 0.3638 - val_acc: 0.8452\n",
            "Epoch 10/20\n",
            "20000/20000 [==============================] - 7s 333us/step - loss: 0.4049 - acc: 0.8167 - val_loss: 0.3667 - val_acc: 0.8354\n",
            "Epoch 11/20\n",
            "20000/20000 [==============================] - 7s 334us/step - loss: 0.3919 - acc: 0.8221 - val_loss: 0.3728 - val_acc: 0.8400\n",
            "Epoch 12/20\n",
            "20000/20000 [==============================] - 7s 335us/step - loss: 0.3936 - acc: 0.8199 - val_loss: 0.4042 - val_acc: 0.8116\n",
            "Epoch 13/20\n",
            "20000/20000 [==============================] - 7s 334us/step - loss: 0.3776 - acc: 0.8298 - val_loss: 0.3578 - val_acc: 0.8470\n",
            "Epoch 14/20\n",
            "20000/20000 [==============================] - 7s 335us/step - loss: 0.3736 - acc: 0.8338 - val_loss: 0.3304 - val_acc: 0.8584\n",
            "Epoch 15/20\n",
            "20000/20000 [==============================] - 7s 333us/step - loss: 0.3679 - acc: 0.8337 - val_loss: 0.3275 - val_acc: 0.8546\n",
            "Epoch 16/20\n",
            "20000/20000 [==============================] - 7s 333us/step - loss: 0.3671 - acc: 0.8338 - val_loss: 0.3504 - val_acc: 0.8486\n",
            "Epoch 17/20\n",
            "20000/20000 [==============================] - 7s 334us/step - loss: 0.3549 - acc: 0.8434 - val_loss: 0.3200 - val_acc: 0.8634\n",
            "Epoch 18/20\n",
            "20000/20000 [==============================] - 7s 334us/step - loss: 0.3556 - acc: 0.8432 - val_loss: 0.3596 - val_acc: 0.8350\n",
            "Epoch 19/20\n",
            "20000/20000 [==============================] - 7s 333us/step - loss: 0.3468 - acc: 0.8447 - val_loss: 0.3263 - val_acc: 0.8514\n",
            "Epoch 20/20\n",
            "20000/20000 [==============================] - 7s 333us/step - loss: 0.3483 - acc: 0.8484 - val_loss: 0.3087 - val_acc: 0.8710\n"
          ],
          "name": "stdout"
        },
        {
          "output_type": "execute_result",
          "data": {
            "text/plain": [
              "<keras.callbacks.History at 0x7fa6857df240>"
            ]
          },
          "metadata": {
            "tags": []
          },
          "execution_count": 102
        }
      ]
    },
    {
      "metadata": {
        "id": "wT7DvH8r3r-a",
        "colab_type": "text"
      },
      "cell_type": "markdown",
      "source": [
        "# Model 2"
      ]
    },
    {
      "metadata": {
        "id": "XujCI5w43q9T",
        "colab_type": "code",
        "colab": {}
      },
      "cell_type": "code",
      "source": [
        "model2 = Sequential()\n",
        "\n",
        "model2.add(Conv2D(32, (3,3), input_shape=(ROWS, COLS, CHANNELS), activation='relu'))\n",
        "model2.add(MaxPooling2D(pool_size = (2,2)))\n",
        "\n",
        "model2.add(Conv2D(64, (3,3), activation='relu'))\n",
        "model2.add(MaxPooling2D(pool_size = (2,2)))\n",
        "#model2.add(Dropout(0.6))\n",
        "\n",
        "model2.add(Conv2D(128, (3,3), activation='relu'))\n",
        "model2.add(MaxPooling2D(pool_size = (2,2)))\n",
        "\n",
        "model2.add(Conv2D(256, (3,3), activation='relu'))\n",
        "model2.add(MaxPooling2D(pool_size = (2,2)))\n",
        "\n",
        "model2.add(Flatten())\n",
        "#model2.add(Dropout(0.6))\n",
        "\n",
        "model2.add(Dense(units=120, activation='relu'))\n",
        "model2.add(Dense(units=2, activation='sigmoid'))"
      ],
      "execution_count": 0,
      "outputs": []
    },
    {
      "metadata": {
        "id": "fQ1BbKBE300s",
        "colab_type": "code",
        "outputId": "aaf6b7aa-18d1-4aa6-cbe8-aec8f5269bf9",
        "colab": {
          "base_uri": "https://localhost:8080/",
          "height": 510
        }
      },
      "cell_type": "code",
      "source": [
        "model2.compile(optimizer='adam', loss='categorical_crossentropy', metrics=['accuracy'])\n",
        "model2.summary()"
      ],
      "execution_count": 0,
      "outputs": [
        {
          "output_type": "stream",
          "text": [
            "_________________________________________________________________\n",
            "Layer (type)                 Output Shape              Param #   \n",
            "=================================================================\n",
            "conv2d_33 (Conv2D)           (None, 62, 62, 32)        896       \n",
            "_________________________________________________________________\n",
            "max_pooling2d_33 (MaxPooling (None, 31, 31, 32)        0         \n",
            "_________________________________________________________________\n",
            "conv2d_34 (Conv2D)           (None, 29, 29, 64)        18496     \n",
            "_________________________________________________________________\n",
            "max_pooling2d_34 (MaxPooling (None, 14, 14, 64)        0         \n",
            "_________________________________________________________________\n",
            "conv2d_35 (Conv2D)           (None, 12, 12, 128)       73856     \n",
            "_________________________________________________________________\n",
            "max_pooling2d_35 (MaxPooling (None, 6, 6, 128)         0         \n",
            "_________________________________________________________________\n",
            "conv2d_36 (Conv2D)           (None, 4, 4, 256)         295168    \n",
            "_________________________________________________________________\n",
            "max_pooling2d_36 (MaxPooling (None, 2, 2, 256)         0         \n",
            "_________________________________________________________________\n",
            "flatten_9 (Flatten)          (None, 1024)              0         \n",
            "_________________________________________________________________\n",
            "dense_18 (Dense)             (None, 120)               123000    \n",
            "_________________________________________________________________\n",
            "dense_19 (Dense)             (None, 2)                 242       \n",
            "=================================================================\n",
            "Total params: 511,658\n",
            "Trainable params: 511,658\n",
            "Non-trainable params: 0\n",
            "_________________________________________________________________\n"
          ],
          "name": "stdout"
        }
      ]
    },
    {
      "metadata": {
        "id": "CIbbg9d835OZ",
        "colab_type": "code",
        "outputId": "bfe33ebc-f040-49fc-9e2b-326e5a692762",
        "colab": {
          "base_uri": "https://localhost:8080/",
          "height": 731
        }
      },
      "cell_type": "code",
      "source": [
        "model2.fit(X_train_norm, y_train_one_hot, validation_data=(X_val_norm, y_val_one_hot), epochs=20, batch_size = 64)"
      ],
      "execution_count": 0,
      "outputs": [
        {
          "output_type": "stream",
          "text": [
            "Train on 20000 samples, validate on 5000 samples\n",
            "Epoch 1/20\n",
            "20000/20000 [==============================] - 10s 502us/step - loss: 0.6396 - acc: 0.6042 - val_loss: 0.5561 - val_acc: 0.7144\n",
            "Epoch 2/20\n",
            "20000/20000 [==============================] - 9s 451us/step - loss: 0.5266 - acc: 0.7379 - val_loss: 0.4913 - val_acc: 0.7644\n",
            "Epoch 3/20\n",
            "20000/20000 [==============================] - 9s 450us/step - loss: 0.4421 - acc: 0.7939 - val_loss: 0.4133 - val_acc: 0.8108\n",
            "Epoch 4/20\n",
            "20000/20000 [==============================] - 9s 450us/step - loss: 0.3797 - acc: 0.8280 - val_loss: 0.3899 - val_acc: 0.8262\n",
            "Epoch 5/20\n",
            "20000/20000 [==============================] - 9s 451us/step - loss: 0.3198 - acc: 0.8607 - val_loss: 0.3592 - val_acc: 0.8414\n",
            "Epoch 6/20\n",
            "20000/20000 [==============================] - 9s 454us/step - loss: 0.2817 - acc: 0.8755 - val_loss: 0.3736 - val_acc: 0.8360\n",
            "Epoch 7/20\n",
            "20000/20000 [==============================] - 9s 456us/step - loss: 0.2263 - acc: 0.9041 - val_loss: 0.4104 - val_acc: 0.8228\n",
            "Epoch 8/20\n",
            "20000/20000 [==============================] - 9s 452us/step - loss: 0.1842 - acc: 0.9262 - val_loss: 0.4230 - val_acc: 0.8282\n",
            "Epoch 9/20\n",
            "20000/20000 [==============================] - 9s 450us/step - loss: 0.1379 - acc: 0.9460 - val_loss: 0.4419 - val_acc: 0.8560\n",
            "Epoch 10/20\n",
            "20000/20000 [==============================] - 9s 450us/step - loss: 0.1164 - acc: 0.9539 - val_loss: 0.4757 - val_acc: 0.8502\n",
            "Epoch 11/20\n",
            "20000/20000 [==============================] - 9s 450us/step - loss: 0.0791 - acc: 0.9710 - val_loss: 0.5048 - val_acc: 0.8434\n",
            "Epoch 12/20\n",
            "20000/20000 [==============================] - 9s 450us/step - loss: 0.0716 - acc: 0.9715 - val_loss: 0.5517 - val_acc: 0.8460\n",
            "Epoch 13/20\n",
            "20000/20000 [==============================] - 9s 450us/step - loss: 0.0619 - acc: 0.9786 - val_loss: 0.6036 - val_acc: 0.8422\n",
            "Epoch 14/20\n",
            "20000/20000 [==============================] - 9s 452us/step - loss: 0.0493 - acc: 0.9823 - val_loss: 0.5837 - val_acc: 0.8458\n",
            "Epoch 15/20\n",
            "20000/20000 [==============================] - 9s 451us/step - loss: 0.0386 - acc: 0.9851 - val_loss: 0.7096 - val_acc: 0.8418\n",
            "Epoch 16/20\n",
            "20000/20000 [==============================] - 9s 453us/step - loss: 0.0507 - acc: 0.9813 - val_loss: 0.6719 - val_acc: 0.8484\n",
            "Epoch 17/20\n",
            "20000/20000 [==============================] - 9s 452us/step - loss: 0.0322 - acc: 0.9888 - val_loss: 0.8267 - val_acc: 0.8262\n",
            "Epoch 18/20\n",
            "20000/20000 [==============================] - 9s 453us/step - loss: 0.0329 - acc: 0.9876 - val_loss: 0.7370 - val_acc: 0.8428\n",
            "Epoch 19/20\n",
            "20000/20000 [==============================] - 9s 452us/step - loss: 0.0414 - acc: 0.9848 - val_loss: 0.7559 - val_acc: 0.8424\n",
            "Epoch 20/20\n",
            "20000/20000 [==============================] - 9s 452us/step - loss: 0.0293 - acc: 0.9888 - val_loss: 0.7354 - val_acc: 0.8456\n"
          ],
          "name": "stdout"
        },
        {
          "output_type": "execute_result",
          "data": {
            "text/plain": [
              "<keras.callbacks.History at 0x7fa684e223c8>"
            ]
          },
          "metadata": {
            "tags": []
          },
          "execution_count": 107
        }
      ]
    },
    {
      "metadata": {
        "id": "KJnjEOrC9aGe",
        "colab_type": "text"
      },
      "cell_type": "markdown",
      "source": [
        "# Model 3"
      ]
    },
    {
      "metadata": {
        "id": "Y9Ck9yoU9TPk",
        "colab_type": "code",
        "colab": {}
      },
      "cell_type": "code",
      "source": [
        "model3 = Sequential()\n",
        "\n",
        "model3.add(Conv2D(32, (3,3), input_shape=(ROWS, COLS, CHANNELS), activation='relu'))\n",
        "model3.add(MaxPooling2D(pool_size = (2,2)))\n",
        "\n",
        "model3.add(Conv2D(64, (3,3), activation='relu'))\n",
        "model3.add(MaxPooling2D(pool_size = (2,2)))\n",
        "model3.add(Dropout(0.3))\n",
        "\n",
        "model3.add(Conv2D(128, (3,3), activation='relu'))\n",
        "model3.add(MaxPooling2D(pool_size = (2,2)))\n",
        "\n",
        "model3.add(Conv2D(256, (3,3), activation='relu'))\n",
        "model3.add(MaxPooling2D(pool_size = (2,2)))\n",
        "\n",
        "model3.add(Flatten())\n",
        "#model3.add(Dropout(0.6))\n",
        "\n",
        "model3.add(Dense(units=120, activation='relu'))\n",
        "model3.add(Dense(units=2, activation='sigmoid'))"
      ],
      "execution_count": 0,
      "outputs": []
    },
    {
      "metadata": {
        "id": "YQBzQyMp9VTK",
        "colab_type": "code",
        "outputId": "41fb0f9e-7db7-49a1-e3da-6a5b5225a490",
        "colab": {
          "base_uri": "https://localhost:8080/",
          "height": 544
        }
      },
      "cell_type": "code",
      "source": [
        "model3.compile(optimizer='adam', loss='categorical_crossentropy', metrics=['accuracy'])\n",
        "model3.summary()"
      ],
      "execution_count": 0,
      "outputs": [
        {
          "output_type": "stream",
          "text": [
            "_________________________________________________________________\n",
            "Layer (type)                 Output Shape              Param #   \n",
            "=================================================================\n",
            "conv2d_41 (Conv2D)           (None, 62, 62, 32)        896       \n",
            "_________________________________________________________________\n",
            "max_pooling2d_41 (MaxPooling (None, 31, 31, 32)        0         \n",
            "_________________________________________________________________\n",
            "conv2d_42 (Conv2D)           (None, 29, 29, 64)        18496     \n",
            "_________________________________________________________________\n",
            "max_pooling2d_42 (MaxPooling (None, 14, 14, 64)        0         \n",
            "_________________________________________________________________\n",
            "dropout_17 (Dropout)         (None, 14, 14, 64)        0         \n",
            "_________________________________________________________________\n",
            "conv2d_43 (Conv2D)           (None, 12, 12, 128)       73856     \n",
            "_________________________________________________________________\n",
            "max_pooling2d_43 (MaxPooling (None, 6, 6, 128)         0         \n",
            "_________________________________________________________________\n",
            "conv2d_44 (Conv2D)           (None, 4, 4, 256)         295168    \n",
            "_________________________________________________________________\n",
            "max_pooling2d_44 (MaxPooling (None, 2, 2, 256)         0         \n",
            "_________________________________________________________________\n",
            "flatten_11 (Flatten)         (None, 1024)              0         \n",
            "_________________________________________________________________\n",
            "dense_22 (Dense)             (None, 120)               123000    \n",
            "_________________________________________________________________\n",
            "dense_23 (Dense)             (None, 2)                 242       \n",
            "=================================================================\n",
            "Total params: 511,658\n",
            "Trainable params: 511,658\n",
            "Non-trainable params: 0\n",
            "_________________________________________________________________\n"
          ],
          "name": "stdout"
        }
      ]
    },
    {
      "metadata": {
        "id": "XD88Efd99YPN",
        "colab_type": "code",
        "outputId": "db1645f8-ecce-40de-963a-564424a96ed3",
        "colab": {
          "base_uri": "https://localhost:8080/",
          "height": 731
        }
      },
      "cell_type": "code",
      "source": [
        "model3.fit(X_train_norm, y_train_one_hot, validation_data=(X_val_norm, y_val_one_hot), epochs=20, batch_size = 64)"
      ],
      "execution_count": 0,
      "outputs": [
        {
          "output_type": "stream",
          "text": [
            "Train on 20000 samples, validate on 5000 samples\n",
            "Epoch 1/20\n",
            "20000/20000 [==============================] - 13s 649us/step - loss: 0.6260 - acc: 0.6378 - val_loss: 0.5877 - val_acc: 0.6788\n",
            "Epoch 2/20\n",
            "20000/20000 [==============================] - 12s 583us/step - loss: 0.5276 - acc: 0.7351 - val_loss: 0.4731 - val_acc: 0.7738\n",
            "Epoch 3/20\n",
            "20000/20000 [==============================] - 12s 581us/step - loss: 0.4496 - acc: 0.7873 - val_loss: 0.4139 - val_acc: 0.8110\n",
            "Epoch 4/20\n",
            "20000/20000 [==============================] - 12s 587us/step - loss: 0.3882 - acc: 0.8222 - val_loss: 0.3866 - val_acc: 0.8306\n",
            "Epoch 5/20\n",
            "20000/20000 [==============================] - 12s 583us/step - loss: 0.3394 - acc: 0.8484 - val_loss: 0.4084 - val_acc: 0.8142\n",
            "Epoch 6/20\n",
            "20000/20000 [==============================] - 12s 584us/step - loss: 0.3065 - acc: 0.8628 - val_loss: 0.3467 - val_acc: 0.8516\n",
            "Epoch 7/20\n",
            "20000/20000 [==============================] - 12s 588us/step - loss: 0.2665 - acc: 0.8844 - val_loss: 0.3338 - val_acc: 0.8486\n",
            "Epoch 8/20\n",
            "20000/20000 [==============================] - 12s 584us/step - loss: 0.2402 - acc: 0.8954 - val_loss: 0.3229 - val_acc: 0.8652\n",
            "Epoch 9/20\n",
            "20000/20000 [==============================] - 12s 582us/step - loss: 0.2159 - acc: 0.9111 - val_loss: 0.3274 - val_acc: 0.8628\n",
            "Epoch 10/20\n",
            "20000/20000 [==============================] - 12s 582us/step - loss: 0.1969 - acc: 0.9186 - val_loss: 0.3102 - val_acc: 0.8730\n",
            "Epoch 11/20\n",
            "20000/20000 [==============================] - 12s 590us/step - loss: 0.1633 - acc: 0.9335 - val_loss: 0.3617 - val_acc: 0.8638\n",
            "Epoch 12/20\n",
            "20000/20000 [==============================] - 12s 602us/step - loss: 0.1427 - acc: 0.9430 - val_loss: 0.3797 - val_acc: 0.8572\n",
            "Epoch 13/20\n",
            "20000/20000 [==============================] - 12s 599us/step - loss: 0.1235 - acc: 0.9502 - val_loss: 0.3628 - val_acc: 0.8666\n",
            "Epoch 14/20\n",
            "20000/20000 [==============================] - 12s 598us/step - loss: 0.1172 - acc: 0.9544 - val_loss: 0.5200 - val_acc: 0.8244\n",
            "Epoch 15/20\n",
            "20000/20000 [==============================] - 12s 600us/step - loss: 0.1087 - acc: 0.9571 - val_loss: 0.4047 - val_acc: 0.8562\n",
            "Epoch 16/20\n",
            "20000/20000 [==============================] - 12s 599us/step - loss: 0.0929 - acc: 0.9643 - val_loss: 0.4070 - val_acc: 0.8632\n",
            "Epoch 17/20\n",
            "20000/20000 [==============================] - 12s 602us/step - loss: 0.0923 - acc: 0.9638 - val_loss: 0.4565 - val_acc: 0.8598\n",
            "Epoch 18/20\n",
            "20000/20000 [==============================] - 12s 602us/step - loss: 0.0795 - acc: 0.9695 - val_loss: 0.4262 - val_acc: 0.8614\n",
            "Epoch 19/20\n",
            "20000/20000 [==============================] - 12s 603us/step - loss: 0.0712 - acc: 0.9724 - val_loss: 0.4559 - val_acc: 0.8596\n",
            "Epoch 20/20\n",
            "20000/20000 [==============================] - 12s 602us/step - loss: 0.0714 - acc: 0.9733 - val_loss: 0.4414 - val_acc: 0.8664\n"
          ],
          "name": "stdout"
        },
        {
          "output_type": "execute_result",
          "data": {
            "text/plain": [
              "<keras.callbacks.History at 0x7fa68423f240>"
            ]
          },
          "metadata": {
            "tags": []
          },
          "execution_count": 113
        }
      ]
    },
    {
      "metadata": {
        "id": "GMva4dQd-yzq",
        "colab_type": "text"
      },
      "cell_type": "markdown",
      "source": [
        "# Model 4"
      ]
    },
    {
      "metadata": {
        "id": "DUPnwICm-rLT",
        "colab_type": "code",
        "colab": {}
      },
      "cell_type": "code",
      "source": [
        "model4 = Sequential()\n",
        "\n",
        "model4.add(Conv2D(32, (3,3), input_shape=(ROWS, COLS, CHANNELS), activation='relu'))\n",
        "model4.add(MaxPooling2D(pool_size = (2,2)))\n",
        "\n",
        "model4.add(Conv2D(64, (3,3), activation='relu'))\n",
        "model4.add(MaxPooling2D(pool_size = (2,2)))\n",
        "model4.add(Dropout(0.3))\n",
        "\n",
        "model4.add(Conv2D(128, (3,3), activation='relu'))\n",
        "model4.add(MaxPooling2D(pool_size = (2,2)))\n",
        "\n",
        "model4.add(Conv2D(256, (3,3), activation='relu'))\n",
        "model4.add(MaxPooling2D(pool_size = (2,2)))\n",
        "\n",
        "model4.add(Flatten())\n",
        "model4.add(Dropout(0.3))\n",
        "\n",
        "model4.add(Dense(units=120, activation='relu'))\n",
        "model4.add(Dense(units=2, activation='sigmoid'))"
      ],
      "execution_count": 0,
      "outputs": []
    },
    {
      "metadata": {
        "id": "XEUojnBd-tXq",
        "colab_type": "code",
        "outputId": "b1c3812c-0f12-445d-b92b-03c27a4adf0e",
        "colab": {
          "base_uri": "https://localhost:8080/",
          "height": 578
        }
      },
      "cell_type": "code",
      "source": [
        "model4.compile(optimizer='adam', loss='categorical_crossentropy', metrics=['accuracy'])\n",
        "model4.summary()"
      ],
      "execution_count": 0,
      "outputs": [
        {
          "output_type": "stream",
          "text": [
            "_________________________________________________________________\n",
            "Layer (type)                 Output Shape              Param #   \n",
            "=================================================================\n",
            "conv2d_45 (Conv2D)           (None, 62, 62, 32)        896       \n",
            "_________________________________________________________________\n",
            "max_pooling2d_45 (MaxPooling (None, 31, 31, 32)        0         \n",
            "_________________________________________________________________\n",
            "conv2d_46 (Conv2D)           (None, 29, 29, 64)        18496     \n",
            "_________________________________________________________________\n",
            "max_pooling2d_46 (MaxPooling (None, 14, 14, 64)        0         \n",
            "_________________________________________________________________\n",
            "dropout_18 (Dropout)         (None, 14, 14, 64)        0         \n",
            "_________________________________________________________________\n",
            "conv2d_47 (Conv2D)           (None, 12, 12, 128)       73856     \n",
            "_________________________________________________________________\n",
            "max_pooling2d_47 (MaxPooling (None, 6, 6, 128)         0         \n",
            "_________________________________________________________________\n",
            "conv2d_48 (Conv2D)           (None, 4, 4, 256)         295168    \n",
            "_________________________________________________________________\n",
            "max_pooling2d_48 (MaxPooling (None, 2, 2, 256)         0         \n",
            "_________________________________________________________________\n",
            "flatten_12 (Flatten)         (None, 1024)              0         \n",
            "_________________________________________________________________\n",
            "dropout_19 (Dropout)         (None, 1024)              0         \n",
            "_________________________________________________________________\n",
            "dense_24 (Dense)             (None, 120)               123000    \n",
            "_________________________________________________________________\n",
            "dense_25 (Dense)             (None, 2)                 242       \n",
            "=================================================================\n",
            "Total params: 511,658\n",
            "Trainable params: 511,658\n",
            "Non-trainable params: 0\n",
            "_________________________________________________________________\n"
          ],
          "name": "stdout"
        }
      ]
    },
    {
      "metadata": {
        "id": "xVhFiETZ-xoe",
        "colab_type": "code",
        "outputId": "66ed30f3-27e7-4b14-c60a-230be5692fa2",
        "colab": {
          "base_uri": "https://localhost:8080/",
          "height": 731
        }
      },
      "cell_type": "code",
      "source": [
        "model4.fit(X_train_norm, y_train_one_hot, validation_data=(X_val_norm, y_val_one_hot), epochs=20, batch_size = 64)"
      ],
      "execution_count": 0,
      "outputs": [
        {
          "output_type": "stream",
          "text": [
            "Train on 20000 samples, validate on 5000 samples\n",
            "Epoch 1/20\n",
            "20000/20000 [==============================] - 13s 653us/step - loss: 0.6659 - acc: 0.5752 - val_loss: 0.6242 - val_acc: 0.6496\n",
            "Epoch 2/20\n",
            "20000/20000 [==============================] - 12s 583us/step - loss: 0.5664 - acc: 0.7017 - val_loss: 0.5346 - val_acc: 0.7270\n",
            "Epoch 3/20\n",
            "20000/20000 [==============================] - 12s 584us/step - loss: 0.4990 - acc: 0.7557 - val_loss: 0.4755 - val_acc: 0.7682\n",
            "Epoch 4/20\n",
            "20000/20000 [==============================] - 12s 583us/step - loss: 0.4461 - acc: 0.7919 - val_loss: 0.4160 - val_acc: 0.8120\n",
            "Epoch 5/20\n",
            "20000/20000 [==============================] - 12s 581us/step - loss: 0.4024 - acc: 0.8140 - val_loss: 0.4067 - val_acc: 0.8188\n",
            "Epoch 6/20\n",
            "20000/20000 [==============================] - 11s 572us/step - loss: 0.3679 - acc: 0.8360 - val_loss: 0.3570 - val_acc: 0.8444\n",
            "Epoch 7/20\n",
            "20000/20000 [==============================] - 11s 565us/step - loss: 0.3368 - acc: 0.8482 - val_loss: 0.3419 - val_acc: 0.8478\n",
            "Epoch 8/20\n",
            "20000/20000 [==============================] - 11s 564us/step - loss: 0.3103 - acc: 0.8622 - val_loss: 0.3547 - val_acc: 0.8482\n",
            "Epoch 9/20\n",
            "20000/20000 [==============================] - 11s 568us/step - loss: 0.2845 - acc: 0.8767 - val_loss: 0.3175 - val_acc: 0.8662\n",
            "Epoch 10/20\n",
            "20000/20000 [==============================] - 11s 568us/step - loss: 0.2638 - acc: 0.8867 - val_loss: 0.3226 - val_acc: 0.8616\n",
            "Epoch 11/20\n",
            "20000/20000 [==============================] - 11s 568us/step - loss: 0.2483 - acc: 0.8944 - val_loss: 0.3099 - val_acc: 0.8708\n",
            "Epoch 12/20\n",
            "20000/20000 [==============================] - 11s 564us/step - loss: 0.2285 - acc: 0.9014 - val_loss: 0.3055 - val_acc: 0.8716\n",
            "Epoch 13/20\n",
            "20000/20000 [==============================] - 11s 563us/step - loss: 0.2103 - acc: 0.9119 - val_loss: 0.3251 - val_acc: 0.8714\n",
            "Epoch 14/20\n",
            "20000/20000 [==============================] - 11s 567us/step - loss: 0.1953 - acc: 0.9202 - val_loss: 0.3082 - val_acc: 0.8764\n",
            "Epoch 15/20\n",
            "20000/20000 [==============================] - 11s 570us/step - loss: 0.1876 - acc: 0.9226 - val_loss: 0.3393 - val_acc: 0.8724\n",
            "Epoch 16/20\n",
            "20000/20000 [==============================] - 11s 571us/step - loss: 0.1710 - acc: 0.9309 - val_loss: 0.3206 - val_acc: 0.8862\n",
            "Epoch 17/20\n",
            "20000/20000 [==============================] - 11s 570us/step - loss: 0.1571 - acc: 0.9357 - val_loss: 0.3375 - val_acc: 0.8762\n",
            "Epoch 18/20\n",
            "20000/20000 [==============================] - 11s 568us/step - loss: 0.1510 - acc: 0.9395 - val_loss: 0.3311 - val_acc: 0.8784\n",
            "Epoch 19/20\n",
            "20000/20000 [==============================] - 11s 567us/step - loss: 0.1398 - acc: 0.9446 - val_loss: 0.3086 - val_acc: 0.8858\n",
            "Epoch 20/20\n",
            "20000/20000 [==============================] - 11s 566us/step - loss: 0.1399 - acc: 0.9440 - val_loss: 0.3017 - val_acc: 0.8876\n"
          ],
          "name": "stdout"
        },
        {
          "output_type": "execute_result",
          "data": {
            "text/plain": [
              "<keras.callbacks.History at 0x7fa683ad7630>"
            ]
          },
          "metadata": {
            "tags": []
          },
          "execution_count": 116
        }
      ]
    },
    {
      "metadata": {
        "id": "LTw3iM3hABtB",
        "colab_type": "text"
      },
      "cell_type": "markdown",
      "source": [
        "# Model 5"
      ]
    },
    {
      "metadata": {
        "id": "_y_OB4sD_-T_",
        "colab_type": "code",
        "colab": {}
      },
      "cell_type": "code",
      "source": [
        "model5 = Sequential()\n",
        "\n",
        "model5.add(Conv2D(32, (3,3), input_shape=(ROWS, COLS, CHANNELS), activation='relu'))\n",
        "model5.add(MaxPooling2D(pool_size = (2,2)))\n",
        "\n",
        "model5.add(Conv2D(64, (3,3), activation='relu'))\n",
        "model5.add(MaxPooling2D(pool_size = (2,2)))\n",
        "model5.add(Dropout(0.3))\n",
        "\n",
        "model5.add(Conv2D(128, (3,3), activation='relu'))\n",
        "model5.add(MaxPooling2D(pool_size = (2,2)))\n",
        "\n",
        "model5.add(Conv2D(256, (3,3), activation='relu'))\n",
        "model5.add(MaxPooling2D(pool_size = (2,2)))\n",
        "\n",
        "model5.add(Flatten())\n",
        "model5.add(Dropout(0.3))\n",
        "\n",
        "model5.add(Dense(units=240, activation='relu'))\n",
        "model5.add(Dense(units=50, activation='relu'))\n",
        "model5.add(Dense(units=2, activation='sigmoid'))"
      ],
      "execution_count": 0,
      "outputs": []
    },
    {
      "metadata": {
        "id": "877MTkKdAFIg",
        "colab_type": "code",
        "outputId": "b2f88c66-14ac-43c4-e94b-bd292c5e8572",
        "colab": {
          "base_uri": "https://localhost:8080/",
          "height": 612
        }
      },
      "cell_type": "code",
      "source": [
        "model5.compile(optimizer='adam', loss='categorical_crossentropy', metrics=['accuracy'])\n",
        "model5.summary()"
      ],
      "execution_count": 0,
      "outputs": [
        {
          "output_type": "stream",
          "text": [
            "_________________________________________________________________\n",
            "Layer (type)                 Output Shape              Param #   \n",
            "=================================================================\n",
            "conv2d_49 (Conv2D)           (None, 62, 62, 32)        896       \n",
            "_________________________________________________________________\n",
            "max_pooling2d_49 (MaxPooling (None, 31, 31, 32)        0         \n",
            "_________________________________________________________________\n",
            "conv2d_50 (Conv2D)           (None, 29, 29, 64)        18496     \n",
            "_________________________________________________________________\n",
            "max_pooling2d_50 (MaxPooling (None, 14, 14, 64)        0         \n",
            "_________________________________________________________________\n",
            "dropout_20 (Dropout)         (None, 14, 14, 64)        0         \n",
            "_________________________________________________________________\n",
            "conv2d_51 (Conv2D)           (None, 12, 12, 128)       73856     \n",
            "_________________________________________________________________\n",
            "max_pooling2d_51 (MaxPooling (None, 6, 6, 128)         0         \n",
            "_________________________________________________________________\n",
            "conv2d_52 (Conv2D)           (None, 4, 4, 256)         295168    \n",
            "_________________________________________________________________\n",
            "max_pooling2d_52 (MaxPooling (None, 2, 2, 256)         0         \n",
            "_________________________________________________________________\n",
            "flatten_13 (Flatten)         (None, 1024)              0         \n",
            "_________________________________________________________________\n",
            "dropout_21 (Dropout)         (None, 1024)              0         \n",
            "_________________________________________________________________\n",
            "dense_26 (Dense)             (None, 240)               246000    \n",
            "_________________________________________________________________\n",
            "dense_27 (Dense)             (None, 50)                12050     \n",
            "_________________________________________________________________\n",
            "dense_28 (Dense)             (None, 2)                 102       \n",
            "=================================================================\n",
            "Total params: 646,568\n",
            "Trainable params: 646,568\n",
            "Non-trainable params: 0\n",
            "_________________________________________________________________\n"
          ],
          "name": "stdout"
        }
      ]
    },
    {
      "metadata": {
        "id": "zrr-vWCIAJxe",
        "colab_type": "code",
        "outputId": "0717b6dc-38b3-44e3-c3c9-4fd41e2642c8",
        "colab": {
          "base_uri": "https://localhost:8080/",
          "height": 731
        }
      },
      "cell_type": "code",
      "source": [
        "model5.fit(X_train_norm, y_train_one_hot, validation_data=(X_val_norm, y_val_one_hot), epochs=20, batch_size = 32)"
      ],
      "execution_count": 0,
      "outputs": [
        {
          "output_type": "stream",
          "text": [
            "Train on 20000 samples, validate on 5000 samples\n",
            "Epoch 1/20\n",
            "20000/20000 [==============================] - 17s 875us/step - loss: 0.6654 - acc: 0.5752 - val_loss: 0.5740 - val_acc: 0.7014\n",
            "Epoch 2/20\n",
            "20000/20000 [==============================] - 16s 782us/step - loss: 0.5487 - acc: 0.7210 - val_loss: 0.5127 - val_acc: 0.7496\n",
            "Epoch 3/20\n",
            "20000/20000 [==============================] - 15s 771us/step - loss: 0.4814 - acc: 0.7673 - val_loss: 0.4635 - val_acc: 0.7842\n",
            "Epoch 4/20\n",
            "20000/20000 [==============================] - 15s 772us/step - loss: 0.4192 - acc: 0.8057 - val_loss: 0.4189 - val_acc: 0.8186\n",
            "Epoch 5/20\n",
            "20000/20000 [==============================] - 15s 766us/step - loss: 0.3647 - acc: 0.8356 - val_loss: 0.3719 - val_acc: 0.8324\n",
            "Epoch 6/20\n",
            "20000/20000 [==============================] - 15s 770us/step - loss: 0.3331 - acc: 0.8547 - val_loss: 0.3331 - val_acc: 0.8510\n",
            "Epoch 7/20\n",
            "20000/20000 [==============================] - 15s 766us/step - loss: 0.3065 - acc: 0.8636 - val_loss: 0.3200 - val_acc: 0.8632\n",
            "Epoch 8/20\n",
            "20000/20000 [==============================] - 15s 767us/step - loss: 0.2790 - acc: 0.8819 - val_loss: 0.3189 - val_acc: 0.8656\n",
            "Epoch 9/20\n",
            "20000/20000 [==============================] - 15s 769us/step - loss: 0.2584 - acc: 0.8872 - val_loss: 0.3012 - val_acc: 0.8706\n",
            "Epoch 10/20\n",
            "20000/20000 [==============================] - 15s 768us/step - loss: 0.2466 - acc: 0.8962 - val_loss: 0.3459 - val_acc: 0.8530\n",
            "Epoch 11/20\n",
            "20000/20000 [==============================] - 15s 768us/step - loss: 0.2313 - acc: 0.9016 - val_loss: 0.3416 - val_acc: 0.8592\n",
            "Epoch 12/20\n",
            "20000/20000 [==============================] - 15s 769us/step - loss: 0.2143 - acc: 0.9117 - val_loss: 0.3111 - val_acc: 0.8734\n",
            "Epoch 13/20\n",
            "20000/20000 [==============================] - 15s 767us/step - loss: 0.1985 - acc: 0.9167 - val_loss: 0.3107 - val_acc: 0.8692\n",
            "Epoch 14/20\n",
            "20000/20000 [==============================] - 15s 770us/step - loss: 0.1870 - acc: 0.9229 - val_loss: 0.3190 - val_acc: 0.8762\n",
            "Epoch 15/20\n",
            "20000/20000 [==============================] - 15s 766us/step - loss: 0.1755 - acc: 0.9290 - val_loss: 0.3468 - val_acc: 0.8712\n",
            "Epoch 16/20\n",
            "20000/20000 [==============================] - 15s 773us/step - loss: 0.1684 - acc: 0.9308 - val_loss: 0.3254 - val_acc: 0.8740\n",
            "Epoch 17/20\n",
            "20000/20000 [==============================] - 15s 774us/step - loss: 0.1582 - acc: 0.9347 - val_loss: 0.3201 - val_acc: 0.8674\n",
            "Epoch 18/20\n",
            "20000/20000 [==============================] - 15s 775us/step - loss: 0.1490 - acc: 0.9421 - val_loss: 0.3816 - val_acc: 0.8650\n",
            "Epoch 19/20\n",
            "20000/20000 [==============================] - 15s 775us/step - loss: 0.1490 - acc: 0.9410 - val_loss: 0.3571 - val_acc: 0.8780\n",
            "Epoch 20/20\n",
            "20000/20000 [==============================] - 15s 772us/step - loss: 0.1368 - acc: 0.9446 - val_loss: 0.3469 - val_acc: 0.8642\n"
          ],
          "name": "stdout"
        },
        {
          "output_type": "execute_result",
          "data": {
            "text/plain": [
              "<keras.callbacks.History at 0x7fa683118d68>"
            ]
          },
          "metadata": {
            "tags": []
          },
          "execution_count": 120
        }
      ]
    },
    {
      "metadata": {
        "id": "2OIbggPrCR-F",
        "colab_type": "text"
      },
      "cell_type": "markdown",
      "source": [
        "# Model 6"
      ]
    },
    {
      "metadata": {
        "id": "w34TjOLgCG9k",
        "colab_type": "code",
        "colab": {}
      },
      "cell_type": "code",
      "source": [
        "model6 = Sequential()\n",
        "\n",
        "model6.add(Conv2D(32, (3,3), input_shape=(ROWS, COLS, CHANNELS), activation='relu'))\n",
        "model6.add(MaxPooling2D(pool_size = (2,2)))\n",
        "\n",
        "model6.add(Conv2D(64, (3,3), activation='relu'))\n",
        "model6.add(MaxPooling2D(pool_size = (2,2)))\n",
        "model6.add(Dropout(0.3))\n",
        "\n",
        "model6.add(Conv2D(128, (3,3), activation='relu'))\n",
        "model6.add(MaxPooling2D(pool_size = (2,2)))\n",
        "\n",
        "model6.add(Conv2D(256, (3,3), activation='relu'))\n",
        "model6.add(MaxPooling2D(pool_size = (2,2)))\n",
        "\n",
        "model6.add(Conv2D(512, (1,1), activation='relu'))\n",
        "#model6.add(MaxPooling2D(pool_size = (2,2)))\n",
        "\n",
        "model6.add(Flatten())\n",
        "model6.add(Dropout(0.3))\n",
        "\n",
        "model6.add(Dense(units=120, activation='relu'))\n",
        "model6.add(Dense(units=2, activation='sigmoid'))"
      ],
      "execution_count": 0,
      "outputs": []
    },
    {
      "metadata": {
        "id": "7LIeCYsiCL_6",
        "colab_type": "code",
        "outputId": "fb68a3af-f4d8-49c6-f5f7-0a7247c73e27",
        "colab": {
          "base_uri": "https://localhost:8080/",
          "height": 612
        }
      },
      "cell_type": "code",
      "source": [
        "model6.compile(optimizer='adam', loss='categorical_crossentropy', metrics=['accuracy'])\n",
        "model6.summary()"
      ],
      "execution_count": 0,
      "outputs": [
        {
          "output_type": "stream",
          "text": [
            "_________________________________________________________________\n",
            "Layer (type)                 Output Shape              Param #   \n",
            "=================================================================\n",
            "conv2d_62 (Conv2D)           (None, 62, 62, 32)        896       \n",
            "_________________________________________________________________\n",
            "max_pooling2d_62 (MaxPooling (None, 31, 31, 32)        0         \n",
            "_________________________________________________________________\n",
            "conv2d_63 (Conv2D)           (None, 29, 29, 64)        18496     \n",
            "_________________________________________________________________\n",
            "max_pooling2d_63 (MaxPooling (None, 14, 14, 64)        0         \n",
            "_________________________________________________________________\n",
            "dropout_26 (Dropout)         (None, 14, 14, 64)        0         \n",
            "_________________________________________________________________\n",
            "conv2d_64 (Conv2D)           (None, 12, 12, 128)       73856     \n",
            "_________________________________________________________________\n",
            "max_pooling2d_64 (MaxPooling (None, 6, 6, 128)         0         \n",
            "_________________________________________________________________\n",
            "conv2d_65 (Conv2D)           (None, 4, 4, 256)         295168    \n",
            "_________________________________________________________________\n",
            "max_pooling2d_65 (MaxPooling (None, 2, 2, 256)         0         \n",
            "_________________________________________________________________\n",
            "conv2d_66 (Conv2D)           (None, 2, 2, 512)         131584    \n",
            "_________________________________________________________________\n",
            "flatten_16 (Flatten)         (None, 2048)              0         \n",
            "_________________________________________________________________\n",
            "dropout_27 (Dropout)         (None, 2048)              0         \n",
            "_________________________________________________________________\n",
            "dense_34 (Dense)             (None, 120)               245880    \n",
            "_________________________________________________________________\n",
            "dense_35 (Dense)             (None, 2)                 242       \n",
            "=================================================================\n",
            "Total params: 766,122\n",
            "Trainable params: 766,122\n",
            "Non-trainable params: 0\n",
            "_________________________________________________________________\n"
          ],
          "name": "stdout"
        }
      ]
    },
    {
      "metadata": {
        "id": "qZq5LN0-CQ0a",
        "colab_type": "code",
        "outputId": "be98584d-798a-4901-f376-6bdbc172f26d",
        "colab": {
          "base_uri": "https://localhost:8080/",
          "height": 731
        }
      },
      "cell_type": "code",
      "source": [
        "model6.fit(X_train_norm, y_train_one_hot, validation_data=(X_val_norm, y_val_one_hot), epochs=20, batch_size = 32)"
      ],
      "execution_count": 0,
      "outputs": [
        {
          "output_type": "stream",
          "text": [
            "Train on 20000 samples, validate on 5000 samples\n",
            "Epoch 1/20\n",
            "20000/20000 [==============================] - 20s 990us/step - loss: 0.6927 - acc: 0.5098 - val_loss: 0.6855 - val_acc: 0.5454\n",
            "Epoch 2/20\n",
            "20000/20000 [==============================] - 18s 899us/step - loss: 0.6734 - acc: 0.5801 - val_loss: 0.6513 - val_acc: 0.6308\n",
            "Epoch 3/20\n",
            "20000/20000 [==============================] - 18s 895us/step - loss: 0.6150 - acc: 0.6615 - val_loss: 0.5621 - val_acc: 0.7176\n",
            "Epoch 4/20\n",
            "20000/20000 [==============================] - 18s 899us/step - loss: 0.5407 - acc: 0.7251 - val_loss: 0.5202 - val_acc: 0.7358\n",
            "Epoch 5/20\n",
            "20000/20000 [==============================] - 18s 894us/step - loss: 0.4826 - acc: 0.7665 - val_loss: 0.4872 - val_acc: 0.7620\n",
            "Epoch 6/20\n",
            "20000/20000 [==============================] - 18s 900us/step - loss: 0.4354 - acc: 0.7966 - val_loss: 0.4439 - val_acc: 0.7928\n",
            "Epoch 7/20\n",
            "20000/20000 [==============================] - 18s 886us/step - loss: 0.3938 - acc: 0.8203 - val_loss: 0.4742 - val_acc: 0.7636\n",
            "Epoch 8/20\n",
            "20000/20000 [==============================] - 18s 904us/step - loss: 0.3664 - acc: 0.8356 - val_loss: 0.3980 - val_acc: 0.8178\n",
            "Epoch 9/20\n",
            "20000/20000 [==============================] - 18s 878us/step - loss: 0.3346 - acc: 0.8515 - val_loss: 0.3969 - val_acc: 0.8326\n",
            "Epoch 10/20\n",
            "20000/20000 [==============================] - 17s 851us/step - loss: 0.3062 - acc: 0.8650 - val_loss: 0.3726 - val_acc: 0.8314\n",
            "Epoch 11/20\n",
            "20000/20000 [==============================] - 17s 852us/step - loss: 0.2827 - acc: 0.8769 - val_loss: 0.3662 - val_acc: 0.8390\n",
            "Epoch 12/20\n",
            "20000/20000 [==============================] - 17s 854us/step - loss: 0.2678 - acc: 0.8862 - val_loss: 0.3897 - val_acc: 0.8264\n",
            "Epoch 13/20\n",
            "20000/20000 [==============================] - 17s 855us/step - loss: 0.2486 - acc: 0.8932 - val_loss: 0.3749 - val_acc: 0.8424\n",
            "Epoch 14/20\n",
            "20000/20000 [==============================] - 17s 842us/step - loss: 0.2317 - acc: 0.9004 - val_loss: 0.4296 - val_acc: 0.8336\n",
            "Epoch 15/20\n",
            "20000/20000 [==============================] - 17s 843us/step - loss: 0.2056 - acc: 0.9144 - val_loss: 0.4516 - val_acc: 0.8266\n",
            "Epoch 16/20\n",
            "20000/20000 [==============================] - 17s 838us/step - loss: 0.1942 - acc: 0.9201 - val_loss: 0.4000 - val_acc: 0.8436\n",
            "Epoch 17/20\n",
            "20000/20000 [==============================] - 17s 844us/step - loss: 0.1796 - acc: 0.9279 - val_loss: 0.4090 - val_acc: 0.8382\n",
            "Epoch 18/20\n",
            "20000/20000 [==============================] - 17s 839us/step - loss: 0.1727 - acc: 0.9293 - val_loss: 0.3832 - val_acc: 0.8534\n",
            "Epoch 19/20\n",
            "20000/20000 [==============================] - 17s 847us/step - loss: 0.1602 - acc: 0.9330 - val_loss: 0.4288 - val_acc: 0.8414\n",
            "Epoch 20/20\n",
            "20000/20000 [==============================] - 17s 833us/step - loss: 0.1552 - acc: 0.9370 - val_loss: 0.4274 - val_acc: 0.8512\n"
          ],
          "name": "stdout"
        },
        {
          "output_type": "execute_result",
          "data": {
            "text/plain": [
              "<keras.callbacks.History at 0x7fa682032a90>"
            ]
          },
          "metadata": {
            "tags": []
          },
          "execution_count": 128
        }
      ]
    },
    {
      "metadata": {
        "id": "wN-bNM_OClkn",
        "colab_type": "text"
      },
      "cell_type": "markdown",
      "source": [
        "# Model 7"
      ]
    },
    {
      "metadata": {
        "id": "RT1coCqsCnSw",
        "colab_type": "code",
        "colab": {}
      },
      "cell_type": "code",
      "source": [
        "model7 = Sequential()\n",
        "\n",
        "model7.add(Conv2D(32, (3,3), input_shape=(ROWS, COLS, CHANNELS), activation='relu'))\n",
        "model7.add(MaxPooling2D(pool_size = (2,2)))\n",
        "\n",
        "model7.add(Conv2D(64, (3,3), activation='relu'))\n",
        "model7.add(MaxPooling2D(pool_size = (2,2)))\n",
        "model7.add(Dropout(0.3))\n",
        "\n",
        "model7.add(Conv2D(128, (3,3), activation='relu'))\n",
        "model7.add(MaxPooling2D(pool_size = (2,2)))\n",
        "model7.add(Dropout(0.3))\n",
        "\n",
        "model7.add(Conv2D(256, (3,3), activation='relu'))\n",
        "model7.add(MaxPooling2D(pool_size = (2,2)))\n",
        "\n",
        "model7.add(Conv2D(512, (1,1), activation='relu'))\n",
        "#model6.add(MaxPooling2D(pool_size = (2,2)))\n",
        "\n",
        "model7.add(Flatten())\n",
        "model7.add(Dropout(0.3))\n",
        "\n",
        "model7.add(Dense(units=120, activation='relu'))\n",
        "model7.add(Dense(units=2, activation='sigmoid'))"
      ],
      "execution_count": 0,
      "outputs": []
    },
    {
      "metadata": {
        "id": "dvzg4PDqCp-1",
        "colab_type": "code",
        "outputId": "46d2bf47-a940-47fb-f468-dbe0c06f7f0f",
        "colab": {
          "base_uri": "https://localhost:8080/",
          "height": 646
        }
      },
      "cell_type": "code",
      "source": [
        "model7.compile(optimizer='adam', loss='categorical_crossentropy', metrics=['accuracy'])\n",
        "model7.summary()"
      ],
      "execution_count": 0,
      "outputs": [
        {
          "output_type": "stream",
          "text": [
            "_________________________________________________________________\n",
            "Layer (type)                 Output Shape              Param #   \n",
            "=================================================================\n",
            "conv2d_67 (Conv2D)           (None, 62, 62, 32)        896       \n",
            "_________________________________________________________________\n",
            "max_pooling2d_66 (MaxPooling (None, 31, 31, 32)        0         \n",
            "_________________________________________________________________\n",
            "conv2d_68 (Conv2D)           (None, 29, 29, 64)        18496     \n",
            "_________________________________________________________________\n",
            "max_pooling2d_67 (MaxPooling (None, 14, 14, 64)        0         \n",
            "_________________________________________________________________\n",
            "dropout_28 (Dropout)         (None, 14, 14, 64)        0         \n",
            "_________________________________________________________________\n",
            "conv2d_69 (Conv2D)           (None, 12, 12, 128)       73856     \n",
            "_________________________________________________________________\n",
            "max_pooling2d_68 (MaxPooling (None, 6, 6, 128)         0         \n",
            "_________________________________________________________________\n",
            "dropout_29 (Dropout)         (None, 6, 6, 128)         0         \n",
            "_________________________________________________________________\n",
            "conv2d_70 (Conv2D)           (None, 4, 4, 256)         295168    \n",
            "_________________________________________________________________\n",
            "max_pooling2d_69 (MaxPooling (None, 2, 2, 256)         0         \n",
            "_________________________________________________________________\n",
            "conv2d_71 (Conv2D)           (None, 2, 2, 512)         131584    \n",
            "_________________________________________________________________\n",
            "flatten_17 (Flatten)         (None, 2048)              0         \n",
            "_________________________________________________________________\n",
            "dropout_30 (Dropout)         (None, 2048)              0         \n",
            "_________________________________________________________________\n",
            "dense_36 (Dense)             (None, 120)               245880    \n",
            "_________________________________________________________________\n",
            "dense_37 (Dense)             (None, 2)                 242       \n",
            "=================================================================\n",
            "Total params: 766,122\n",
            "Trainable params: 766,122\n",
            "Non-trainable params: 0\n",
            "_________________________________________________________________\n"
          ],
          "name": "stdout"
        }
      ]
    },
    {
      "metadata": {
        "id": "61HAVLqmCsJG",
        "colab_type": "code",
        "outputId": "01c22f4a-80b6-4516-886a-d84a1444af75",
        "colab": {
          "base_uri": "https://localhost:8080/",
          "height": 731
        }
      },
      "cell_type": "code",
      "source": [
        "model7.fit(X_train_norm, y_train_one_hot, validation_data=(X_val_norm, y_val_one_hot), epochs=20, batch_size = 64)"
      ],
      "execution_count": 0,
      "outputs": [
        {
          "output_type": "stream",
          "text": [
            "Train on 20000 samples, validate on 5000 samples\n",
            "Epoch 1/20\n",
            "20000/20000 [==============================] - 15s 760us/step - loss: 0.6581 - acc: 0.5968 - val_loss: 0.5972 - val_acc: 0.6838\n",
            "Epoch 2/20\n",
            "20000/20000 [==============================] - 12s 601us/step - loss: 0.5536 - acc: 0.7185 - val_loss: 0.4990 - val_acc: 0.7542\n",
            "Epoch 3/20\n",
            "20000/20000 [==============================] - 12s 591us/step - loss: 0.4766 - acc: 0.7719 - val_loss: 0.4364 - val_acc: 0.7996\n",
            "Epoch 4/20\n",
            "20000/20000 [==============================] - 12s 594us/step - loss: 0.4215 - acc: 0.8061 - val_loss: 0.3763 - val_acc: 0.8316\n",
            "Epoch 5/20\n",
            "20000/20000 [==============================] - 12s 591us/step - loss: 0.3761 - acc: 0.8296 - val_loss: 0.3658 - val_acc: 0.8386\n",
            "Epoch 6/20\n",
            "20000/20000 [==============================] - 12s 590us/step - loss: 0.3554 - acc: 0.8397 - val_loss: 0.3450 - val_acc: 0.8514\n",
            "Epoch 7/20\n",
            "20000/20000 [==============================] - 12s 594us/step - loss: 0.3165 - acc: 0.8614 - val_loss: 0.3265 - val_acc: 0.8580\n",
            "Epoch 8/20\n",
            "20000/20000 [==============================] - 12s 593us/step - loss: 0.3051 - acc: 0.8652 - val_loss: 0.3117 - val_acc: 0.8714\n",
            "Epoch 9/20\n",
            "20000/20000 [==============================] - 12s 594us/step - loss: 0.2842 - acc: 0.8776 - val_loss: 0.3041 - val_acc: 0.8690\n",
            "Epoch 10/20\n",
            "20000/20000 [==============================] - 12s 592us/step - loss: 0.2674 - acc: 0.8860 - val_loss: 0.3161 - val_acc: 0.8612\n",
            "Epoch 11/20\n",
            "20000/20000 [==============================] - 12s 592us/step - loss: 0.2478 - acc: 0.8951 - val_loss: 0.2908 - val_acc: 0.8736\n",
            "Epoch 12/20\n",
            "20000/20000 [==============================] - 12s 592us/step - loss: 0.2343 - acc: 0.9001 - val_loss: 0.2763 - val_acc: 0.8864\n",
            "Epoch 13/20\n",
            "20000/20000 [==============================] - 12s 591us/step - loss: 0.2222 - acc: 0.9066 - val_loss: 0.2972 - val_acc: 0.8728\n",
            "Epoch 14/20\n",
            "20000/20000 [==============================] - 12s 593us/step - loss: 0.2135 - acc: 0.9102 - val_loss: 0.2730 - val_acc: 0.8802\n",
            "Epoch 15/20\n",
            "20000/20000 [==============================] - 12s 591us/step - loss: 0.1950 - acc: 0.9190 - val_loss: 0.2803 - val_acc: 0.8834\n",
            "Epoch 16/20\n",
            "20000/20000 [==============================] - 12s 589us/step - loss: 0.1931 - acc: 0.9216 - val_loss: 0.2836 - val_acc: 0.8802\n",
            "Epoch 17/20\n",
            "20000/20000 [==============================] - 12s 593us/step - loss: 0.1751 - acc: 0.9289 - val_loss: 0.2861 - val_acc: 0.8852\n",
            "Epoch 18/20\n",
            "20000/20000 [==============================] - 12s 585us/step - loss: 0.1743 - acc: 0.9272 - val_loss: 0.2962 - val_acc: 0.8806\n",
            "Epoch 19/20\n",
            "20000/20000 [==============================] - 12s 584us/step - loss: 0.1642 - acc: 0.9330 - val_loss: 0.2900 - val_acc: 0.8832\n",
            "Epoch 20/20\n",
            "20000/20000 [==============================] - 12s 585us/step - loss: 0.1588 - acc: 0.9331 - val_loss: 0.2933 - val_acc: 0.8852\n"
          ],
          "name": "stdout"
        },
        {
          "output_type": "execute_result",
          "data": {
            "text/plain": [
              "<keras.callbacks.History at 0x7fa6815a5550>"
            ]
          },
          "metadata": {
            "tags": []
          },
          "execution_count": 131
        }
      ]
    },
    {
      "metadata": {
        "id": "MERGQyIHGcEp",
        "colab_type": "text"
      },
      "cell_type": "markdown",
      "source": [
        "# Model 8"
      ]
    },
    {
      "metadata": {
        "id": "KyuUL1Q9Gdxe",
        "colab_type": "code",
        "colab": {}
      },
      "cell_type": "code",
      "source": [
        "model8 = Sequential()\n",
        "\n",
        "model8.add(Conv2D(32, (3,3), input_shape=(ROWS, COLS, CHANNELS), activation='relu'))\n",
        "model8.add(MaxPooling2D(pool_size = (2,2)))\n",
        "\n",
        "model8.add(Conv2D(64, (3,3), activation='relu'))\n",
        "model8.add(MaxPooling2D(pool_size = (2,2)))\n",
        "model8.add(Dropout(0.3))\n",
        "\n",
        "model8.add(Conv2D(128, (3,3), activation='relu'))\n",
        "model8.add(MaxPooling2D(pool_size = (2,2)))\n",
        "model8.add(Dropout(0.3))\n",
        "\n",
        "model8.add(Conv2D(256, (3,3), activation='relu'))\n",
        "model8.add(MaxPooling2D(pool_size = (2,2)))\n",
        "model8.add(Dropout(0.3))\n",
        "\n",
        "model8.add(Conv2D(512, (1,1), activation='relu'))\n",
        "#model6.add(MaxPooling2D(pool_size = (2,2)))\n",
        "\n",
        "model8.add(Flatten())\n",
        "model8.add(Dropout(0.3))\n",
        "\n",
        "model8.add(Dense(units=120, activation='relu'))\n",
        "model8.add(Dense(units=2, activation='sigmoid'))"
      ],
      "execution_count": 0,
      "outputs": []
    },
    {
      "metadata": {
        "id": "A2EjaJkwGfaJ",
        "colab_type": "code",
        "outputId": "421b3dd7-9689-4ab8-9f03-58d4779c13fc",
        "colab": {
          "base_uri": "https://localhost:8080/",
          "height": 680
        }
      },
      "cell_type": "code",
      "source": [
        "model8.compile(optimizer='adam', loss='categorical_crossentropy', metrics=['accuracy'])\n",
        "model8.summary()"
      ],
      "execution_count": 0,
      "outputs": [
        {
          "output_type": "stream",
          "text": [
            "_________________________________________________________________\n",
            "Layer (type)                 Output Shape              Param #   \n",
            "=================================================================\n",
            "conv2d_72 (Conv2D)           (None, 62, 62, 32)        896       \n",
            "_________________________________________________________________\n",
            "max_pooling2d_70 (MaxPooling (None, 31, 31, 32)        0         \n",
            "_________________________________________________________________\n",
            "conv2d_73 (Conv2D)           (None, 29, 29, 64)        18496     \n",
            "_________________________________________________________________\n",
            "max_pooling2d_71 (MaxPooling (None, 14, 14, 64)        0         \n",
            "_________________________________________________________________\n",
            "dropout_31 (Dropout)         (None, 14, 14, 64)        0         \n",
            "_________________________________________________________________\n",
            "conv2d_74 (Conv2D)           (None, 12, 12, 128)       73856     \n",
            "_________________________________________________________________\n",
            "max_pooling2d_72 (MaxPooling (None, 6, 6, 128)         0         \n",
            "_________________________________________________________________\n",
            "dropout_32 (Dropout)         (None, 6, 6, 128)         0         \n",
            "_________________________________________________________________\n",
            "conv2d_75 (Conv2D)           (None, 4, 4, 256)         295168    \n",
            "_________________________________________________________________\n",
            "max_pooling2d_73 (MaxPooling (None, 2, 2, 256)         0         \n",
            "_________________________________________________________________\n",
            "dropout_33 (Dropout)         (None, 2, 2, 256)         0         \n",
            "_________________________________________________________________\n",
            "conv2d_76 (Conv2D)           (None, 2, 2, 512)         131584    \n",
            "_________________________________________________________________\n",
            "flatten_18 (Flatten)         (None, 2048)              0         \n",
            "_________________________________________________________________\n",
            "dropout_34 (Dropout)         (None, 2048)              0         \n",
            "_________________________________________________________________\n",
            "dense_38 (Dense)             (None, 120)               245880    \n",
            "_________________________________________________________________\n",
            "dense_39 (Dense)             (None, 2)                 242       \n",
            "=================================================================\n",
            "Total params: 766,122\n",
            "Trainable params: 766,122\n",
            "Non-trainable params: 0\n",
            "_________________________________________________________________\n"
          ],
          "name": "stdout"
        }
      ]
    },
    {
      "metadata": {
        "id": "XQzK6OxaGhrP",
        "colab_type": "code",
        "outputId": "7a83e301-42ee-4734-9e09-d7a5e6db2418",
        "colab": {
          "base_uri": "https://localhost:8080/",
          "height": 1071
        }
      },
      "cell_type": "code",
      "source": [
        "model8.fit(X_train_norm, y_train_one_hot, validation_data=(X_val_norm, y_val_one_hot), epochs=30, batch_size = 64)"
      ],
      "execution_count": 0,
      "outputs": [
        {
          "output_type": "stream",
          "text": [
            "Train on 20000 samples, validate on 5000 samples\n",
            "Epoch 1/30\n",
            "20000/20000 [==============================] - 15s 759us/step - loss: 0.6662 - acc: 0.5804 - val_loss: 0.6474 - val_acc: 0.6110\n",
            "Epoch 2/30\n",
            "20000/20000 [==============================] - 12s 618us/step - loss: 0.5819 - acc: 0.6923 - val_loss: 0.5561 - val_acc: 0.7120\n",
            "Epoch 3/30\n",
            "20000/20000 [==============================] - 12s 607us/step - loss: 0.5295 - acc: 0.7355 - val_loss: 0.5323 - val_acc: 0.7384\n",
            "Epoch 4/30\n",
            "20000/20000 [==============================] - 12s 598us/step - loss: 0.4664 - acc: 0.7793 - val_loss: 0.4149 - val_acc: 0.8086\n",
            "Epoch 5/30\n",
            "20000/20000 [==============================] - 12s 597us/step - loss: 0.4180 - acc: 0.8120 - val_loss: 0.4201 - val_acc: 0.8138\n",
            "Epoch 6/30\n",
            "20000/20000 [==============================] - 12s 592us/step - loss: 0.3858 - acc: 0.8255 - val_loss: 0.3583 - val_acc: 0.8458\n",
            "Epoch 7/30\n",
            "20000/20000 [==============================] - 12s 594us/step - loss: 0.3551 - acc: 0.8455 - val_loss: 0.3296 - val_acc: 0.8572\n",
            "Epoch 8/30\n",
            "20000/20000 [==============================] - 12s 596us/step - loss: 0.3406 - acc: 0.8503 - val_loss: 0.3252 - val_acc: 0.8592\n",
            "Epoch 9/30\n",
            "20000/20000 [==============================] - 12s 594us/step - loss: 0.3124 - acc: 0.8603 - val_loss: 0.3091 - val_acc: 0.8652\n",
            "Epoch 10/30\n",
            "20000/20000 [==============================] - 12s 594us/step - loss: 0.3003 - acc: 0.8726 - val_loss: 0.3063 - val_acc: 0.8652\n",
            "Epoch 11/30\n",
            "20000/20000 [==============================] - 12s 598us/step - loss: 0.2950 - acc: 0.8716 - val_loss: 0.3160 - val_acc: 0.8636\n",
            "Epoch 12/30\n",
            "20000/20000 [==============================] - 12s 597us/step - loss: 0.2808 - acc: 0.8799 - val_loss: 0.2899 - val_acc: 0.8762\n",
            "Epoch 13/30\n",
            "20000/20000 [==============================] - 12s 595us/step - loss: 0.2678 - acc: 0.8842 - val_loss: 0.2880 - val_acc: 0.8792\n",
            "Epoch 14/30\n",
            "20000/20000 [==============================] - 12s 598us/step - loss: 0.2549 - acc: 0.8905 - val_loss: 0.2836 - val_acc: 0.8752\n",
            "Epoch 15/30\n",
            "20000/20000 [==============================] - 12s 597us/step - loss: 0.2511 - acc: 0.8931 - val_loss: 0.3020 - val_acc: 0.8742\n",
            "Epoch 16/30\n",
            "20000/20000 [==============================] - 12s 597us/step - loss: 0.2344 - acc: 0.8996 - val_loss: 0.2689 - val_acc: 0.8838\n",
            "Epoch 17/30\n",
            "20000/20000 [==============================] - 12s 595us/step - loss: 0.2273 - acc: 0.9054 - val_loss: 0.2962 - val_acc: 0.8734\n",
            "Epoch 18/30\n",
            "20000/20000 [==============================] - 12s 594us/step - loss: 0.2259 - acc: 0.9043 - val_loss: 0.2692 - val_acc: 0.8862\n",
            "Epoch 19/30\n",
            "20000/20000 [==============================] - 12s 593us/step - loss: 0.2155 - acc: 0.9063 - val_loss: 0.2952 - val_acc: 0.8732\n",
            "Epoch 20/30\n",
            "20000/20000 [==============================] - 12s 596us/step - loss: 0.2063 - acc: 0.9128 - val_loss: 0.2653 - val_acc: 0.8904\n",
            "Epoch 21/30\n",
            "20000/20000 [==============================] - 12s 596us/step - loss: 0.2052 - acc: 0.9152 - val_loss: 0.2713 - val_acc: 0.8884\n",
            "Epoch 22/30\n",
            "20000/20000 [==============================] - 12s 594us/step - loss: 0.1993 - acc: 0.9162 - val_loss: 0.2655 - val_acc: 0.8880\n",
            "Epoch 23/30\n",
            "20000/20000 [==============================] - 12s 597us/step - loss: 0.1929 - acc: 0.9217 - val_loss: 0.2584 - val_acc: 0.8938\n",
            "Epoch 24/30\n",
            "20000/20000 [==============================] - 12s 594us/step - loss: 0.1927 - acc: 0.9213 - val_loss: 0.2962 - val_acc: 0.8812\n",
            "Epoch 25/30\n",
            "20000/20000 [==============================] - 12s 595us/step - loss: 0.1850 - acc: 0.9252 - val_loss: 0.2821 - val_acc: 0.8894\n",
            "Epoch 26/30\n",
            "20000/20000 [==============================] - 12s 596us/step - loss: 0.1771 - acc: 0.9274 - val_loss: 0.3260 - val_acc: 0.8774\n",
            "Epoch 27/30\n",
            "20000/20000 [==============================] - 12s 596us/step - loss: 0.1780 - acc: 0.9282 - val_loss: 0.2631 - val_acc: 0.8890\n",
            "Epoch 28/30\n",
            "20000/20000 [==============================] - 12s 594us/step - loss: 0.1719 - acc: 0.9301 - val_loss: 0.2721 - val_acc: 0.8868\n",
            "Epoch 29/30\n",
            "20000/20000 [==============================] - 12s 596us/step - loss: 0.1739 - acc: 0.9292 - val_loss: 0.2650 - val_acc: 0.8938\n",
            "Epoch 30/30\n",
            "20000/20000 [==============================] - 12s 596us/step - loss: 0.1598 - acc: 0.9331 - val_loss: 0.2647 - val_acc: 0.8896\n"
          ],
          "name": "stdout"
        },
        {
          "output_type": "execute_result",
          "data": {
            "text/plain": [
              "<keras.callbacks.History at 0x7fa680c67860>"
            ]
          },
          "metadata": {
            "tags": []
          },
          "execution_count": 135
        }
      ]
    },
    {
      "metadata": {
        "id": "kDcYo3vFIUIY",
        "colab_type": "text"
      },
      "cell_type": "markdown",
      "source": [
        "# Model 9"
      ]
    },
    {
      "metadata": {
        "id": "rvWtxf5eC_AN",
        "colab_type": "code",
        "colab": {}
      },
      "cell_type": "code",
      "source": [
        "model9 = Sequential()\n",
        "\n",
        "model9.add(Conv2D(32, (3,3), input_shape=(ROWS, COLS, CHANNELS), activation='relu'))\n",
        "model9.add(MaxPooling2D(pool_size = (2,2)))\n",
        "\n",
        "model9.add(Conv2D(64, (3,3), activation='relu'))\n",
        "model9.add(MaxPooling2D(pool_size = (2,2)))\n",
        "model9.add(Dropout(0.4))\n",
        "\n",
        "model9.add(Conv2D(128, (3,3), activation='relu'))\n",
        "model9.add(MaxPooling2D(pool_size = (2,2)))\n",
        "model9.add(Dropout(0.4))\n",
        "\n",
        "model9.add(Conv2D(256, (3,3), activation='relu'))\n",
        "model9.add(MaxPooling2D(pool_size = (2,2)))\n",
        "model9.add(Dropout(0.4))\n",
        "\n",
        "model9.add(Conv2D(512, (1,1), activation='relu'))\n",
        "#model6.add(MaxPooling2D(pool_size = (2,2)))\n",
        "\n",
        "model9.add(Flatten())\n",
        "model9.add(Dropout(0.4))\n",
        "\n",
        "model9.add(Dense(units=120, activation='relu'))\n",
        "model9.add(Dense(units=2, activation='sigmoid'))"
      ],
      "execution_count": 0,
      "outputs": []
    },
    {
      "metadata": {
        "id": "MlpCzuFq41Zy",
        "colab_type": "code",
        "outputId": "1354af42-d02a-4551-e50e-502825bcfc91",
        "colab": {
          "base_uri": "https://localhost:8080/",
          "height": 680
        }
      },
      "cell_type": "code",
      "source": [
        "model9.compile(optimizer='adam', loss='categorical_crossentropy', metrics=['accuracy'])\n",
        "model9.summary()"
      ],
      "execution_count": 0,
      "outputs": [
        {
          "output_type": "stream",
          "text": [
            "_________________________________________________________________\n",
            "Layer (type)                 Output Shape              Param #   \n",
            "=================================================================\n",
            "conv2d_82 (Conv2D)           (None, 62, 62, 32)        896       \n",
            "_________________________________________________________________\n",
            "max_pooling2d_78 (MaxPooling (None, 31, 31, 32)        0         \n",
            "_________________________________________________________________\n",
            "conv2d_83 (Conv2D)           (None, 29, 29, 64)        18496     \n",
            "_________________________________________________________________\n",
            "max_pooling2d_79 (MaxPooling (None, 14, 14, 64)        0         \n",
            "_________________________________________________________________\n",
            "dropout_39 (Dropout)         (None, 14, 14, 64)        0         \n",
            "_________________________________________________________________\n",
            "conv2d_84 (Conv2D)           (None, 12, 12, 128)       73856     \n",
            "_________________________________________________________________\n",
            "max_pooling2d_80 (MaxPooling (None, 6, 6, 128)         0         \n",
            "_________________________________________________________________\n",
            "dropout_40 (Dropout)         (None, 6, 6, 128)         0         \n",
            "_________________________________________________________________\n",
            "conv2d_85 (Conv2D)           (None, 4, 4, 256)         295168    \n",
            "_________________________________________________________________\n",
            "max_pooling2d_81 (MaxPooling (None, 2, 2, 256)         0         \n",
            "_________________________________________________________________\n",
            "dropout_41 (Dropout)         (None, 2, 2, 256)         0         \n",
            "_________________________________________________________________\n",
            "conv2d_86 (Conv2D)           (None, 2, 2, 512)         131584    \n",
            "_________________________________________________________________\n",
            "flatten_20 (Flatten)         (None, 2048)              0         \n",
            "_________________________________________________________________\n",
            "dropout_42 (Dropout)         (None, 2048)              0         \n",
            "_________________________________________________________________\n",
            "dense_42 (Dense)             (None, 120)               245880    \n",
            "_________________________________________________________________\n",
            "dense_43 (Dense)             (None, 2)                 242       \n",
            "=================================================================\n",
            "Total params: 766,122\n",
            "Trainable params: 766,122\n",
            "Non-trainable params: 0\n",
            "_________________________________________________________________\n"
          ],
          "name": "stdout"
        }
      ]
    },
    {
      "metadata": {
        "id": "w46SAPzLbEsA",
        "colab_type": "code",
        "outputId": "8b356e08-b079-4fce-a8af-e28b15431b99",
        "colab": {
          "base_uri": "https://localhost:8080/",
          "height": 731
        }
      },
      "cell_type": "code",
      "source": [
        "model9.fit(X_train_norm, y_train_one_hot, validation_data=(X_val_norm, y_val_one_hot), epochs=20, batch_size = 64)"
      ],
      "execution_count": 0,
      "outputs": [
        {
          "output_type": "stream",
          "text": [
            "Train on 20000 samples, validate on 5000 samples\n",
            "Epoch 1/20\n",
            "20000/20000 [==============================] - 15s 766us/step - loss: 0.6689 - acc: 0.5823 - val_loss: 0.6042 - val_acc: 0.6754\n",
            "Epoch 2/20\n",
            "20000/20000 [==============================] - 12s 613us/step - loss: 0.5859 - acc: 0.6917 - val_loss: 0.5528 - val_acc: 0.7242\n",
            "Epoch 3/20\n",
            "20000/20000 [==============================] - 12s 602us/step - loss: 0.5158 - acc: 0.7471 - val_loss: 0.5157 - val_acc: 0.7338\n",
            "Epoch 4/20\n",
            "20000/20000 [==============================] - 12s 596us/step - loss: 0.4645 - acc: 0.7812 - val_loss: 0.4281 - val_acc: 0.8040\n",
            "Epoch 5/20\n",
            "20000/20000 [==============================] - 12s 598us/step - loss: 0.4267 - acc: 0.8032 - val_loss: 0.4236 - val_acc: 0.8038\n",
            "Epoch 6/20\n",
            "20000/20000 [==============================] - 12s 598us/step - loss: 0.3972 - acc: 0.8197 - val_loss: 0.3676 - val_acc: 0.8372\n",
            "Epoch 7/20\n",
            "20000/20000 [==============================] - 12s 596us/step - loss: 0.3901 - acc: 0.8247 - val_loss: 0.3632 - val_acc: 0.8424\n",
            "Epoch 8/20\n",
            "20000/20000 [==============================] - 12s 596us/step - loss: 0.3620 - acc: 0.8370 - val_loss: 0.3363 - val_acc: 0.8540\n",
            "Epoch 9/20\n",
            "20000/20000 [==============================] - 12s 596us/step - loss: 0.3489 - acc: 0.8447 - val_loss: 0.3406 - val_acc: 0.8534\n",
            "Epoch 10/20\n",
            "20000/20000 [==============================] - 12s 594us/step - loss: 0.3331 - acc: 0.8527 - val_loss: 0.3385 - val_acc: 0.8552\n",
            "Epoch 11/20\n",
            "20000/20000 [==============================] - 12s 597us/step - loss: 0.3211 - acc: 0.8624 - val_loss: 0.3165 - val_acc: 0.8602\n",
            "Epoch 12/20\n",
            "20000/20000 [==============================] - 12s 595us/step - loss: 0.3232 - acc: 0.8609 - val_loss: 0.3108 - val_acc: 0.8672\n",
            "Epoch 13/20\n",
            "20000/20000 [==============================] - 12s 594us/step - loss: 0.3014 - acc: 0.8714 - val_loss: 0.3032 - val_acc: 0.8692\n",
            "Epoch 14/20\n",
            "20000/20000 [==============================] - 12s 595us/step - loss: 0.2966 - acc: 0.8724 - val_loss: 0.3005 - val_acc: 0.8722\n",
            "Epoch 15/20\n",
            "20000/20000 [==============================] - 12s 595us/step - loss: 0.2898 - acc: 0.8746 - val_loss: 0.3351 - val_acc: 0.8536\n",
            "Epoch 16/20\n",
            "20000/20000 [==============================] - 12s 595us/step - loss: 0.2830 - acc: 0.8809 - val_loss: 0.2964 - val_acc: 0.8708\n",
            "Epoch 17/20\n",
            "20000/20000 [==============================] - 12s 596us/step - loss: 0.2773 - acc: 0.8821 - val_loss: 0.3078 - val_acc: 0.8618\n",
            "Epoch 18/20\n",
            "20000/20000 [==============================] - 12s 596us/step - loss: 0.2693 - acc: 0.8860 - val_loss: 0.2736 - val_acc: 0.8816\n",
            "Epoch 19/20\n",
            "20000/20000 [==============================] - 12s 596us/step - loss: 0.2642 - acc: 0.8868 - val_loss: 0.2804 - val_acc: 0.8788\n",
            "Epoch 20/20\n",
            "20000/20000 [==============================] - 12s 597us/step - loss: 0.2596 - acc: 0.8907 - val_loss: 0.2694 - val_acc: 0.8820\n"
          ],
          "name": "stdout"
        },
        {
          "output_type": "execute_result",
          "data": {
            "text/plain": [
              "<keras.callbacks.History at 0x7fa67fb66b70>"
            ]
          },
          "metadata": {
            "tags": []
          },
          "execution_count": 141
        }
      ]
    },
    {
      "metadata": {
        "id": "Cb4qwBefJ8VY",
        "colab_type": "code",
        "outputId": "3ed2d0e9-7de9-41ba-d15f-7dcee4c53125",
        "colab": {
          "base_uri": "https://localhost:8080/",
          "height": 731
        }
      },
      "cell_type": "code",
      "source": [
        "model9.fit(X_train_norm, y_train_one_hot, validation_data=(X_val_norm, y_val_one_hot), epochs=20, batch_size = 64)"
      ],
      "execution_count": 0,
      "outputs": [
        {
          "output_type": "stream",
          "text": [
            "Train on 20000 samples, validate on 5000 samples\n",
            "Epoch 1/20\n",
            "20000/20000 [==============================] - 13s 633us/step - loss: 0.2526 - acc: 0.8925 - val_loss: 0.2780 - val_acc: 0.8834\n",
            "Epoch 2/20\n",
            "20000/20000 [==============================] - 12s 602us/step - loss: 0.2463 - acc: 0.8957 - val_loss: 0.2696 - val_acc: 0.8838\n",
            "Epoch 3/20\n",
            "20000/20000 [==============================] - 12s 598us/step - loss: 0.2416 - acc: 0.8976 - val_loss: 0.2725 - val_acc: 0.8868\n",
            "Epoch 4/20\n",
            "20000/20000 [==============================] - 12s 598us/step - loss: 0.2419 - acc: 0.8986 - val_loss: 0.2575 - val_acc: 0.8924\n",
            "Epoch 5/20\n",
            "20000/20000 [==============================] - 12s 593us/step - loss: 0.2325 - acc: 0.9035 - val_loss: 0.2647 - val_acc: 0.8884\n",
            "Epoch 6/20\n",
            "20000/20000 [==============================] - 12s 599us/step - loss: 0.2297 - acc: 0.9049 - val_loss: 0.2771 - val_acc: 0.8770\n",
            "Epoch 7/20\n",
            "20000/20000 [==============================] - 12s 599us/step - loss: 0.2290 - acc: 0.9025 - val_loss: 0.2712 - val_acc: 0.8750\n",
            "Epoch 8/20\n",
            "20000/20000 [==============================] - 12s 596us/step - loss: 0.2253 - acc: 0.9059 - val_loss: 0.2568 - val_acc: 0.8912\n",
            "Epoch 9/20\n",
            "20000/20000 [==============================] - 12s 596us/step - loss: 0.2235 - acc: 0.9056 - val_loss: 0.2592 - val_acc: 0.8890\n",
            "Epoch 10/20\n",
            "20000/20000 [==============================] - 12s 597us/step - loss: 0.2191 - acc: 0.9070 - val_loss: 0.2667 - val_acc: 0.8862\n",
            "Epoch 11/20\n",
            "20000/20000 [==============================] - 12s 596us/step - loss: 0.2162 - acc: 0.9085 - val_loss: 0.2546 - val_acc: 0.8916\n",
            "Epoch 12/20\n",
            "20000/20000 [==============================] - 12s 597us/step - loss: 0.2155 - acc: 0.9109 - val_loss: 0.2371 - val_acc: 0.8972\n",
            "Epoch 13/20\n",
            "20000/20000 [==============================] - 12s 598us/step - loss: 0.2098 - acc: 0.9138 - val_loss: 0.2377 - val_acc: 0.9000\n",
            "Epoch 14/20\n",
            "20000/20000 [==============================] - 12s 596us/step - loss: 0.2066 - acc: 0.9145 - val_loss: 0.2388 - val_acc: 0.8988\n",
            "Epoch 15/20\n",
            "20000/20000 [==============================] - 12s 598us/step - loss: 0.2038 - acc: 0.9159 - val_loss: 0.2376 - val_acc: 0.9016\n",
            "Epoch 16/20\n",
            "20000/20000 [==============================] - 12s 598us/step - loss: 0.1967 - acc: 0.9189 - val_loss: 0.2467 - val_acc: 0.8970\n",
            "Epoch 17/20\n",
            "20000/20000 [==============================] - 12s 596us/step - loss: 0.2038 - acc: 0.9181 - val_loss: 0.2364 - val_acc: 0.9020\n",
            "Epoch 18/20\n",
            "20000/20000 [==============================] - 12s 598us/step - loss: 0.1949 - acc: 0.9202 - val_loss: 0.2511 - val_acc: 0.8884\n",
            "Epoch 19/20\n",
            "20000/20000 [==============================] - 12s 598us/step - loss: 0.1975 - acc: 0.9185 - val_loss: 0.2376 - val_acc: 0.9010\n",
            "Epoch 20/20\n",
            "20000/20000 [==============================] - 12s 595us/step - loss: 0.1926 - acc: 0.9214 - val_loss: 0.2456 - val_acc: 0.8952\n"
          ],
          "name": "stdout"
        },
        {
          "output_type": "execute_result",
          "data": {
            "text/plain": [
              "<keras.callbacks.History at 0x7fa67fb66d30>"
            ]
          },
          "metadata": {
            "tags": []
          },
          "execution_count": 142
        }
      ]
    },
    {
      "metadata": {
        "id": "dUMgKlnuK73d",
        "colab_type": "code",
        "outputId": "92e4a5b3-c2f4-4e49-a59e-2c5d4bd9c94a",
        "colab": {
          "base_uri": "https://localhost:8080/",
          "height": 221
        }
      },
      "cell_type": "code",
      "source": [
        "model9.fit(X_train_norm, y_train_one_hot, validation_data=(X_val_norm, y_val_one_hot), epochs=5, batch_size = 64)"
      ],
      "execution_count": 0,
      "outputs": [
        {
          "output_type": "stream",
          "text": [
            "Train on 20000 samples, validate on 5000 samples\n",
            "Epoch 1/5\n",
            "20000/20000 [==============================] - 12s 611us/step - loss: 0.1900 - acc: 0.9224 - val_loss: 0.2435 - val_acc: 0.8988\n",
            "Epoch 2/5\n",
            "20000/20000 [==============================] - 12s 598us/step - loss: 0.1893 - acc: 0.9236 - val_loss: 0.2428 - val_acc: 0.8980\n",
            "Epoch 3/5\n",
            "20000/20000 [==============================] - 12s 596us/step - loss: 0.1912 - acc: 0.9213 - val_loss: 0.2394 - val_acc: 0.8948\n",
            "Epoch 4/5\n",
            "20000/20000 [==============================] - 12s 599us/step - loss: 0.1819 - acc: 0.9262 - val_loss: 0.2342 - val_acc: 0.9018\n",
            "Epoch 5/5\n",
            "20000/20000 [==============================] - 12s 595us/step - loss: 0.1834 - acc: 0.9240 - val_loss: 0.2367 - val_acc: 0.9008\n"
          ],
          "name": "stdout"
        },
        {
          "output_type": "execute_result",
          "data": {
            "text/plain": [
              "<keras.callbacks.History at 0x7fa67f1bacf8>"
            ]
          },
          "metadata": {
            "tags": []
          },
          "execution_count": 143
        }
      ]
    },
    {
      "metadata": {
        "id": "HPPAi3jOMK5o",
        "colab_type": "text"
      },
      "cell_type": "markdown",
      "source": [
        "# Checking our model"
      ]
    },
    {
      "metadata": {
        "id": "zR5WqfXXIVvy",
        "colab_type": "code",
        "colab": {}
      },
      "cell_type": "code",
      "source": [
        "image = X_train[2]\n",
        "test_pred = model9.predict_classes(image.reshape(1, 64, 64, 3))"
      ],
      "execution_count": 0,
      "outputs": []
    },
    {
      "metadata": {
        "id": "72rpic8IJf4N",
        "colab_type": "code",
        "outputId": "514b24d4-0e41-4f0f-ee14-50dbf596fd79",
        "colab": {
          "base_uri": "https://localhost:8080/",
          "height": 172
        }
      },
      "cell_type": "code",
      "source": [
        "show_images(X_train, y_train,2)"
      ],
      "execution_count": 0,
      "outputs": [
        {
          "output_type": "display_data",
          "data": {
            "image/png": "[encoded data removed]",
            "text/plain": [
              "<Figure size 288x144 with 1 Axes>"
            ]
          },
          "metadata": {
            "tags": []
          }
        }
      ]
    },
    {
      "metadata": {
        "id": "I6VvteUMIWkx",
        "colab_type": "code",
        "outputId": "6e1d4655-fed3-4c06-ed16-b2dd12d02133",
        "colab": {
          "base_uri": "https://localhost:8080/",
          "height": 34
        }
      },
      "cell_type": "code",
      "source": [
        "print(test_pred)"
      ],
      "execution_count": 0,
      "outputs": [
        {
          "output_type": "stream",
          "text": [
            "[1]\n"
          ],
          "name": "stdout"
        }
      ]
    },
    {
      "metadata": {
        "id": "M2JoHJ3bMOp9",
        "colab_type": "code",
        "colab": {}
      },
      "cell_type": "code",
      "source": [
        "image = X_train[5]\n",
        "test_pred = model9.predict_classes(image.reshape(1, 64, 64, 3))"
      ],
      "execution_count": 0,
      "outputs": []
    },
    {
      "metadata": {
        "id": "vg8E90VlMQGx",
        "colab_type": "code",
        "outputId": "b2b2f039-f6e7-4557-ecb2-03b312c53f54",
        "colab": {
          "base_uri": "https://localhost:8080/",
          "height": 172
        }
      },
      "cell_type": "code",
      "source": [
        "show_images(X_train, y_train,5)"
      ],
      "execution_count": 0,
      "outputs": [
        {
          "output_type": "display_data",
          "data": {
            "image/png": "[encoded data removed]",
            "text/plain": [
              "<Figure size 288x144 with 1 Axes>"
            ]
          },
          "metadata": {
            "tags": []
          }
        }
      ]
    },
    {
      "metadata": {
        "id": "VXjlLksZMR0E",
        "colab_type": "code",
        "outputId": "d0d45e89-4d99-475e-ff9e-19d3dde14376",
        "colab": {
          "base_uri": "https://localhost:8080/",
          "height": 34
        }
      },
      "cell_type": "code",
      "source": [
        "print(test_pred)"
      ],
      "execution_count": 0,
      "outputs": [
        {
          "output_type": "stream",
          "text": [
            "[1]\n"
          ],
          "name": "stdout"
        }
      ]
    },
    {
      "metadata": {
        "id": "2Yv71GaFMUit",
        "colab_type": "code",
        "colab": {}
      },
      "cell_type": "code",
      "source": [
        "image = X_train[99]\n",
        "test_pred = model9.predict_classes(image.reshape(1, 64, 64, 3))"
      ],
      "execution_count": 0,
      "outputs": []
    },
    {
      "metadata": {
        "id": "6kAp8MmRM4e1",
        "colab_type": "code",
        "outputId": "3e01dfb3-2121-4088-da04-d446af304d58",
        "colab": {
          "base_uri": "https://localhost:8080/",
          "height": 172
        }
      },
      "cell_type": "code",
      "source": [
        "show_images(X_train, y_train,99)"
      ],
      "execution_count": 0,
      "outputs": [
        {
          "output_type": "display_data",
          "data": {
            "image/png": "[encoded data removed]",
            "text/plain": [
              "<Figure size 288x144 with 1 Axes>"
            ]
          },
          "metadata": {
            "tags": []
          }
        }
      ]
    },
    {
      "metadata": {
        "id": "l2EdeqA5M6AQ",
        "colab_type": "code",
        "outputId": "7415ede8-91b8-4709-82ee-40eb5cec2a64",
        "colab": {
          "base_uri": "https://localhost:8080/",
          "height": 34
        }
      },
      "cell_type": "code",
      "source": [
        "print(test_pred)"
      ],
      "execution_count": 0,
      "outputs": [
        {
          "output_type": "stream",
          "text": [
            "[0]\n"
          ],
          "name": "stdout"
        }
      ]
    },
    {
      "metadata": {
        "id": "ieWX6pXAM75k",
        "colab_type": "code",
        "colab": {}
      },
      "cell_type": "code",
      "source": [
        ""
      ],
      "execution_count": 0,
      "outputs": []
    }
  ]
}